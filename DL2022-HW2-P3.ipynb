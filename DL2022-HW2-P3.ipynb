{
  "cells": [
    {
      "cell_type": "markdown",
      "metadata": {},
      "source": [
        "# Deep Learning\n",
        "## HW2 - Problem 3 -sign language (80+16pts)"
      ]
    },
    {
      "cell_type": "markdown",
      "metadata": {},
      "source": [
        "\n",
        "\n",
        "1.   Full Name: Radmehr Karimian\n",
        "2.   Student Number: 98103556\n",
        "\n",
        "\n"
      ]
    },
    {
      "cell_type": "code",
      "execution_count": 2,
      "metadata": {
        "id": "Pd_FdLm34EY4"
      },
      "outputs": [],
      "source": [
        "import numpy as np\n",
        "import pandas as pd\n",
        "import matplotlib.pyplot as plt\n",
        "import tensorflow as tf\n",
        "from tensorflow import keras\n",
        "from sklearn.preprocessing import StandardScaler\n",
        "from keras.models import Sequential\n",
        "from keras.layers import Dense, Activation, InputLayer, Dropout"
      ]
    },
    {
      "cell_type": "code",
      "execution_count": 4,
      "metadata": {
        "colab": {
          "base_uri": "https://localhost:8080/"
        },
        "id": "Fe36KZ3J4s8P",
        "outputId": "7b0a4a71-64aa-4c00-a090-6f0e0d439182"
      },
      "outputs": [
        {
          "name": "stdout",
          "output_type": "stream",
          "text": [
            "Mounted at /content/gdrive\n"
          ]
        }
      ],
      "source": [
        "from google.colab import drive\n",
        "drive.mount('/content/gdrive')\n",
        "\n"
      ]
    },
    {
      "cell_type": "code",
      "execution_count": 5,
      "metadata": {
        "colab": {
          "base_uri": "https://localhost:8080/"
        },
        "id": "0jmuBs1R414M",
        "outputId": "b51c62b9-9c9b-459c-97b5-108bca8dfd6c"
      },
      "outputs": [
        {
          "name": "stdout",
          "output_type": "stream",
          "text": [
            "/content/gdrive/MyDrive/DeepLearning\n"
          ]
        }
      ],
      "source": [
        "cd /content/gdrive/MyDrive/DeepLearning"
      ]
    },
    {
      "cell_type": "code",
      "execution_count": 6,
      "metadata": {
        "colab": {
          "base_uri": "https://localhost:8080/",
          "height": 335
        },
        "id": "Pif5mU_U5jZp",
        "outputId": "d636679f-e457-421e-ee2d-70cbb15fc08f"
      },
      "outputs": [
        {
          "name": "stdout",
          "output_type": "stream",
          "text": [
            "Shape of training dataframe:(27455, 785)\n",
            "Shape of test dataframe:(7172, 785)\n"
          ]
        },
        {
          "data": {
            "text/html": [
              "\n",
              "  <div id=\"df-b6a47d6f-cd27-4206-93e5-32b13f80ae79\">\n",
              "    <div class=\"colab-df-container\">\n",
              "      <div>\n",
              "<style scoped>\n",
              "    .dataframe tbody tr th:only-of-type {\n",
              "        vertical-align: middle;\n",
              "    }\n",
              "\n",
              "    .dataframe tbody tr th {\n",
              "        vertical-align: top;\n",
              "    }\n",
              "\n",
              "    .dataframe thead th {\n",
              "        text-align: right;\n",
              "    }\n",
              "</style>\n",
              "<table border=\"1\" class=\"dataframe\">\n",
              "  <thead>\n",
              "    <tr style=\"text-align: right;\">\n",
              "      <th></th>\n",
              "      <th>label</th>\n",
              "      <th>pixel1</th>\n",
              "      <th>pixel2</th>\n",
              "      <th>pixel3</th>\n",
              "      <th>pixel4</th>\n",
              "      <th>pixel5</th>\n",
              "      <th>pixel6</th>\n",
              "      <th>pixel7</th>\n",
              "      <th>pixel8</th>\n",
              "      <th>pixel9</th>\n",
              "      <th>...</th>\n",
              "      <th>pixel775</th>\n",
              "      <th>pixel776</th>\n",
              "      <th>pixel777</th>\n",
              "      <th>pixel778</th>\n",
              "      <th>pixel779</th>\n",
              "      <th>pixel780</th>\n",
              "      <th>pixel781</th>\n",
              "      <th>pixel782</th>\n",
              "      <th>pixel783</th>\n",
              "      <th>pixel784</th>\n",
              "    </tr>\n",
              "  </thead>\n",
              "  <tbody>\n",
              "    <tr>\n",
              "      <th>0</th>\n",
              "      <td>3</td>\n",
              "      <td>107</td>\n",
              "      <td>118</td>\n",
              "      <td>127</td>\n",
              "      <td>134</td>\n",
              "      <td>139</td>\n",
              "      <td>143</td>\n",
              "      <td>146</td>\n",
              "      <td>150</td>\n",
              "      <td>153</td>\n",
              "      <td>...</td>\n",
              "      <td>207</td>\n",
              "      <td>207</td>\n",
              "      <td>207</td>\n",
              "      <td>207</td>\n",
              "      <td>206</td>\n",
              "      <td>206</td>\n",
              "      <td>206</td>\n",
              "      <td>204</td>\n",
              "      <td>203</td>\n",
              "      <td>202</td>\n",
              "    </tr>\n",
              "    <tr>\n",
              "      <th>1</th>\n",
              "      <td>6</td>\n",
              "      <td>155</td>\n",
              "      <td>157</td>\n",
              "      <td>156</td>\n",
              "      <td>156</td>\n",
              "      <td>156</td>\n",
              "      <td>157</td>\n",
              "      <td>156</td>\n",
              "      <td>158</td>\n",
              "      <td>158</td>\n",
              "      <td>...</td>\n",
              "      <td>69</td>\n",
              "      <td>149</td>\n",
              "      <td>128</td>\n",
              "      <td>87</td>\n",
              "      <td>94</td>\n",
              "      <td>163</td>\n",
              "      <td>175</td>\n",
              "      <td>103</td>\n",
              "      <td>135</td>\n",
              "      <td>149</td>\n",
              "    </tr>\n",
              "    <tr>\n",
              "      <th>2</th>\n",
              "      <td>2</td>\n",
              "      <td>187</td>\n",
              "      <td>188</td>\n",
              "      <td>188</td>\n",
              "      <td>187</td>\n",
              "      <td>187</td>\n",
              "      <td>186</td>\n",
              "      <td>187</td>\n",
              "      <td>188</td>\n",
              "      <td>187</td>\n",
              "      <td>...</td>\n",
              "      <td>202</td>\n",
              "      <td>201</td>\n",
              "      <td>200</td>\n",
              "      <td>199</td>\n",
              "      <td>198</td>\n",
              "      <td>199</td>\n",
              "      <td>198</td>\n",
              "      <td>195</td>\n",
              "      <td>194</td>\n",
              "      <td>195</td>\n",
              "    </tr>\n",
              "    <tr>\n",
              "      <th>3</th>\n",
              "      <td>2</td>\n",
              "      <td>211</td>\n",
              "      <td>211</td>\n",
              "      <td>212</td>\n",
              "      <td>212</td>\n",
              "      <td>211</td>\n",
              "      <td>210</td>\n",
              "      <td>211</td>\n",
              "      <td>210</td>\n",
              "      <td>210</td>\n",
              "      <td>...</td>\n",
              "      <td>235</td>\n",
              "      <td>234</td>\n",
              "      <td>233</td>\n",
              "      <td>231</td>\n",
              "      <td>230</td>\n",
              "      <td>226</td>\n",
              "      <td>225</td>\n",
              "      <td>222</td>\n",
              "      <td>229</td>\n",
              "      <td>163</td>\n",
              "    </tr>\n",
              "    <tr>\n",
              "      <th>4</th>\n",
              "      <td>13</td>\n",
              "      <td>164</td>\n",
              "      <td>167</td>\n",
              "      <td>170</td>\n",
              "      <td>172</td>\n",
              "      <td>176</td>\n",
              "      <td>179</td>\n",
              "      <td>180</td>\n",
              "      <td>184</td>\n",
              "      <td>185</td>\n",
              "      <td>...</td>\n",
              "      <td>92</td>\n",
              "      <td>105</td>\n",
              "      <td>105</td>\n",
              "      <td>108</td>\n",
              "      <td>133</td>\n",
              "      <td>163</td>\n",
              "      <td>157</td>\n",
              "      <td>163</td>\n",
              "      <td>164</td>\n",
              "      <td>179</td>\n",
              "    </tr>\n",
              "  </tbody>\n",
              "</table>\n",
              "<p>5 rows × 785 columns</p>\n",
              "</div>\n",
              "      <button class=\"colab-df-convert\" onclick=\"convertToInteractive('df-b6a47d6f-cd27-4206-93e5-32b13f80ae79')\"\n",
              "              title=\"Convert this dataframe to an interactive table.\"\n",
              "              style=\"display:none;\">\n",
              "        \n",
              "  <svg xmlns=\"http://www.w3.org/2000/svg\" height=\"24px\"viewBox=\"0 0 24 24\"\n",
              "       width=\"24px\">\n",
              "    <path d=\"M0 0h24v24H0V0z\" fill=\"none\"/>\n",
              "    <path d=\"M18.56 5.44l.94 2.06.94-2.06 2.06-.94-2.06-.94-.94-2.06-.94 2.06-2.06.94zm-11 1L8.5 8.5l.94-2.06 2.06-.94-2.06-.94L8.5 2.5l-.94 2.06-2.06.94zm10 10l.94 2.06.94-2.06 2.06-.94-2.06-.94-.94-2.06-.94 2.06-2.06.94z\"/><path d=\"M17.41 7.96l-1.37-1.37c-.4-.4-.92-.59-1.43-.59-.52 0-1.04.2-1.43.59L10.3 9.45l-7.72 7.72c-.78.78-.78 2.05 0 2.83L4 21.41c.39.39.9.59 1.41.59.51 0 1.02-.2 1.41-.59l7.78-7.78 2.81-2.81c.8-.78.8-2.07 0-2.86zM5.41 20L4 18.59l7.72-7.72 1.47 1.35L5.41 20z\"/>\n",
              "  </svg>\n",
              "      </button>\n",
              "      \n",
              "  <style>\n",
              "    .colab-df-container {\n",
              "      display:flex;\n",
              "      flex-wrap:wrap;\n",
              "      gap: 12px;\n",
              "    }\n",
              "\n",
              "    .colab-df-convert {\n",
              "      background-color: #E8F0FE;\n",
              "      border: none;\n",
              "      border-radius: 50%;\n",
              "      cursor: pointer;\n",
              "      display: none;\n",
              "      fill: #1967D2;\n",
              "      height: 32px;\n",
              "      padding: 0 0 0 0;\n",
              "      width: 32px;\n",
              "    }\n",
              "\n",
              "    .colab-df-convert:hover {\n",
              "      background-color: #E2EBFA;\n",
              "      box-shadow: 0px 1px 2px rgba(60, 64, 67, 0.3), 0px 1px 3px 1px rgba(60, 64, 67, 0.15);\n",
              "      fill: #174EA6;\n",
              "    }\n",
              "\n",
              "    [theme=dark] .colab-df-convert {\n",
              "      background-color: #3B4455;\n",
              "      fill: #D2E3FC;\n",
              "    }\n",
              "\n",
              "    [theme=dark] .colab-df-convert:hover {\n",
              "      background-color: #434B5C;\n",
              "      box-shadow: 0px 1px 3px 1px rgba(0, 0, 0, 0.15);\n",
              "      filter: drop-shadow(0px 1px 2px rgba(0, 0, 0, 0.3));\n",
              "      fill: #FFFFFF;\n",
              "    }\n",
              "  </style>\n",
              "\n",
              "      <script>\n",
              "        const buttonEl =\n",
              "          document.querySelector('#df-b6a47d6f-cd27-4206-93e5-32b13f80ae79 button.colab-df-convert');\n",
              "        buttonEl.style.display =\n",
              "          google.colab.kernel.accessAllowed ? 'block' : 'none';\n",
              "\n",
              "        async function convertToInteractive(key) {\n",
              "          const element = document.querySelector('#df-b6a47d6f-cd27-4206-93e5-32b13f80ae79');\n",
              "          const dataTable =\n",
              "            await google.colab.kernel.invokeFunction('convertToInteractive',\n",
              "                                                     [key], {});\n",
              "          if (!dataTable) return;\n",
              "\n",
              "          const docLinkHtml = 'Like what you see? Visit the ' +\n",
              "            '<a target=\"_blank\" href=https://colab.research.google.com/notebooks/data_table.ipynb>data table notebook</a>'\n",
              "            + ' to learn more about interactive tables.';\n",
              "          element.innerHTML = '';\n",
              "          dataTable['output_type'] = 'display_data';\n",
              "          await google.colab.output.renderOutput(dataTable, element);\n",
              "          const docLink = document.createElement('div');\n",
              "          docLink.innerHTML = docLinkHtml;\n",
              "          element.appendChild(docLink);\n",
              "        }\n",
              "      </script>\n",
              "    </div>\n",
              "  </div>\n",
              "  "
            ],
            "text/plain": [
              "   label  pixel1  pixel2  pixel3  pixel4  pixel5  pixel6  pixel7  pixel8  \\\n",
              "0      3     107     118     127     134     139     143     146     150   \n",
              "1      6     155     157     156     156     156     157     156     158   \n",
              "2      2     187     188     188     187     187     186     187     188   \n",
              "3      2     211     211     212     212     211     210     211     210   \n",
              "4     13     164     167     170     172     176     179     180     184   \n",
              "\n",
              "   pixel9  ...  pixel775  pixel776  pixel777  pixel778  pixel779  pixel780  \\\n",
              "0     153  ...       207       207       207       207       206       206   \n",
              "1     158  ...        69       149       128        87        94       163   \n",
              "2     187  ...       202       201       200       199       198       199   \n",
              "3     210  ...       235       234       233       231       230       226   \n",
              "4     185  ...        92       105       105       108       133       163   \n",
              "\n",
              "   pixel781  pixel782  pixel783  pixel784  \n",
              "0       206       204       203       202  \n",
              "1       175       103       135       149  \n",
              "2       198       195       194       195  \n",
              "3       225       222       229       163  \n",
              "4       157       163       164       179  \n",
              "\n",
              "[5 rows x 785 columns]"
            ]
          },
          "execution_count": 6,
          "metadata": {},
          "output_type": "execute_result"
        }
      ],
      "source": [
        "df_train = pd.read_csv('Q3_train.csv')\n",
        "df_test = pd.read_csv('Q3_test.csv')\n",
        "print(f\"Shape of training dataframe:{df_train.shape}\")\n",
        "print(f\"Shape of test dataframe:{df_test.shape}\")\n",
        "df_train.head()"
      ]
    },
    {
      "cell_type": "code",
      "execution_count": 7,
      "metadata": {
        "id": "30p6AHAs5oB3"
      },
      "outputs": [],
      "source": [
        "df_tmp = df_train.copy()\n",
        "y_train = df_tmp.pop('label')\n",
        "X_train = df_tmp\n",
        "\n",
        "df_tmp = df_test.copy()\n",
        "y_test = df_tmp.pop('label')\n",
        "X_test = df_tmp\n",
        "\n",
        "scaler1 = StandardScaler()\n",
        "scaler1.fit(X_train)\n",
        "X_train = scaler1.transform(X_train)\n",
        "X_test = scaler1.transform(X_test)"
      ]
    },
    {
      "cell_type": "code",
      "execution_count": 7,
      "metadata": {
        "colab": {
          "base_uri": "https://localhost:8080/",
          "height": 78
        },
        "id": "uRzYr28v5tGO",
        "outputId": "98b3dd89-6e51-46d6-eea8-867928f260e7"
      },
      "outputs": [
        {
          "data": {
            "image/png": "[encoded data removed]",
            "text/plain": [
              "<Figure size 432x288 with 9 Axes>"
            ]
          },
          "metadata": {
            "needs_background": "light"
          },
          "output_type": "display_data"
        }
      ],
      "source": [
        "np.random.seed(50)\n",
        "pics_no = np.random.randint(0, X_train.shape[0], 9)\n",
        "\n",
        "rows = 1\n",
        "cols = 9\n",
        "axes=[]\n",
        "fig=plt.figure()\n",
        "\n",
        "for j, i in enumerate(pics_no):\n",
        "    img, label = X_train[i], y_train[i]\n",
        "    axes.append(fig.add_subplot(rows, cols, j+1) )\n",
        "    subplot_title=(f\"label = {label}\")\n",
        "    axes[-1].set_title(subplot_title) \n",
        "    plt.axis(False) \n",
        "    plt.imshow(np.array(img).reshape((28,28)), cmap='gray')\n",
        "plt.show()"
      ]
    },
    {
      "cell_type": "code",
      "execution_count": 38,
      "metadata": {
        "id": "0xI1c6DE50ms"
      },
      "outputs": [],
      "source": [
        "train_df = df_train.sample(frac=1, random_state=42) # Shuffiling the entire dataset"
      ]
    },
    {
      "cell_type": "code",
      "execution_count": 39,
      "metadata": {
        "id": "v2hg0Rm9j4uj"
      },
      "outputs": [],
      "source": [
        "X, y = train_df.drop('label', axis=1), train_df['label'] # Split the dataset into X, y"
      ]
    },
    {
      "cell_type": "code",
      "execution_count": 40,
      "metadata": {
        "colab": {
          "base_uri": "https://localhost:8080/"
        },
        "id": "hj5PjsxxTx8c",
        "outputId": "516a9f3a-b257-49d7-f493-0da4be00d763"
      },
      "outputs": [
        {
          "data": {
            "text/plain": [
              "((27455, 784), (27455,))"
            ]
          },
          "execution_count": 40,
          "metadata": {},
          "output_type": "execute_result"
        }
      ],
      "source": [
        "X.shape, y.shape"
      ]
    },
    {
      "cell_type": "code",
      "execution_count": 41,
      "metadata": {
        "colab": {
          "base_uri": "https://localhost:8080/"
        },
        "id": "VMFTh-yjkyn1",
        "outputId": "9e240ff8-4ea9-4f02-90b5-bfdcf4b7420a"
      },
      "outputs": [
        {
          "data": {
            "text/plain": [
              "(array([dtype('int64')], dtype=object), dtype('int64'))"
            ]
          },
          "execution_count": 41,
          "metadata": {},
          "output_type": "execute_result"
        }
      ],
      "source": [
        "np.unique(X.dtypes), y.dtype"
      ]
    },
    {
      "cell_type": "code",
      "execution_count": 43,
      "metadata": {
        "colab": {
          "base_uri": "https://localhost:8080/"
        },
        "id": "uUF8l7nQk9kX",
        "outputId": "899a977f-3c3f-4235-d832-fa4513e25ae8"
      },
      "outputs": [
        {
          "data": {
            "text/plain": [
              "array([dtype('float64')], dtype=object)"
            ]
          },
          "execution_count": 43,
          "metadata": {},
          "output_type": "execute_result"
        }
      ],
      "source": [
        "X = X/255.0 # Normalizing the training data and converting the data type to float\n",
        "np.unique(X.dtypes)"
      ]
    },
    {
      "cell_type": "code",
      "execution_count": 44,
      "metadata": {
        "id": "bFees0GrT0eu"
      },
      "outputs": [],
      "source": [
        "from sklearn.preprocessing import LabelBinarizer\n",
        "label_binarizer = LabelBinarizer() # Binarize labels in a one-vs-all fashion (return one-hot encoded vectors)\n",
        "y = label_binarizer.fit_transform(y)"
      ]
    },
    {
      "cell_type": "code",
      "execution_count": 45,
      "metadata": {
        "id": "HtmHgAvMT4GL"
      },
      "outputs": [],
      "source": [
        "X = tf.reshape(X, [-1, 28, 28, 1])"
      ]
    },
    {
      "cell_type": "code",
      "execution_count": 34,
      "metadata": {
        "id": "bY2l46fVT--G"
      },
      "outputs": [],
      "source": [
        "X_train, X_valid = X[:25000], X[25000:]\n",
        "y_train, y_valid = y[:25000], y[25000:]"
      ]
    },
    {
      "cell_type": "code",
      "execution_count": 16,
      "metadata": {
        "id": "zOziWX2bUCU4"
      },
      "outputs": [],
      "source": [
        "# Defining the CNN\n",
        "\n",
        "model = keras.models.Sequential()\n",
        "model.add(keras.layers.Conv2D(32, (5, 5), padding='same', activation='relu', input_shape=(28, 28, 1)))\n",
        "model.add(keras.layers.MaxPooling2D(pool_size=(2, 2)))\n",
        "model.add(keras.layers.Conv2D(64, (5, 5), padding='same', activation='relu'))\n",
        "model.add(keras.layers.MaxPooling2D(pool_size=(2, 2)))\n",
        "model.add(keras.layers.Conv2D(128, (5, 5), padding='same', activation='relu'))\n",
        "model.add(keras.layers.MaxPooling2D(pool_size=(2, 2)))\n",
        "model.add(keras.layers.Flatten())\n",
        "model.add(keras.layers.Dense(128, activation='relu'))\n",
        "model.add(keras.layers.Dense(24, activation='softmax'))"
      ]
    },
    {
      "cell_type": "code",
      "execution_count": 17,
      "metadata": {
        "id": "ro0UMFeeUG76"
      },
      "outputs": [],
      "source": [
        "model.compile(loss='categorical_crossentropy', optimizer='adam', metrics=['accuracy'])"
      ]
    },
    {
      "cell_type": "code",
      "execution_count": 18,
      "metadata": {
        "colab": {
          "base_uri": "https://localhost:8080/"
        },
        "id": "4kKAnzjgUKAs",
        "outputId": "7c83eac4-3028-4e71-b9c2-ac523b58c645"
      },
      "outputs": [
        {
          "name": "stdout",
          "output_type": "stream",
          "text": [
            "Model: \"sequential\"\n",
            "_________________________________________________________________\n",
            " Layer (type)                Output Shape              Param #   \n",
            "=================================================================\n",
            " conv2d (Conv2D)             (None, 28, 28, 32)        832       \n",
            "                                                                 \n",
            " max_pooling2d (MaxPooling2D  (None, 14, 14, 32)       0         \n",
            " )                                                               \n",
            "                                                                 \n",
            " conv2d_1 (Conv2D)           (None, 14, 14, 64)        51264     \n",
            "                                                                 \n",
            " max_pooling2d_1 (MaxPooling  (None, 7, 7, 64)         0         \n",
            " 2D)                                                             \n",
            "                                                                 \n",
            " conv2d_2 (Conv2D)           (None, 7, 7, 128)         204928    \n",
            "                                                                 \n",
            " max_pooling2d_2 (MaxPooling  (None, 3, 3, 128)        0         \n",
            " 2D)                                                             \n",
            "                                                                 \n",
            " flatten (Flatten)           (None, 1152)              0         \n",
            "                                                                 \n",
            " dense (Dense)               (None, 128)               147584    \n",
            "                                                                 \n",
            " dense_1 (Dense)             (None, 24)                3096      \n",
            "                                                                 \n",
            "=================================================================\n",
            "Total params: 407,704\n",
            "Trainable params: 407,704\n",
            "Non-trainable params: 0\n",
            "_________________________________________________________________\n"
          ]
        }
      ],
      "source": [
        "model.summary()"
      ]
    },
    {
      "cell_type": "code",
      "execution_count": 19,
      "metadata": {
        "id": "LwH9tzraUN9K"
      },
      "outputs": [],
      "source": [
        "save_best_cb = keras.callbacks.ModelCheckpoint('models/initial-end-to-end', save_best_only=True) # Saves the best model so far\n",
        "early_stopping_cb = keras.callbacks.EarlyStopping(patience=5) # Interupts training when there is no progress"
      ]
    },
    {
      "cell_type": "code",
      "execution_count": 22,
      "metadata": {
        "colab": {
          "base_uri": "https://localhost:8080/"
        },
        "id": "gG7v6Wq1USPS",
        "outputId": "77ddf4a2-6f10-4176-d55b-7e19fcd7c7a6"
      },
      "outputs": [
        {
          "name": "stdout",
          "output_type": "stream",
          "text": [
            "Epoch 1/20\n",
            "781/782 [============================>.] - ETA: 0s - loss: 2.6621e-08 - accuracy: 1.0000"
          ]
        },
        {
          "name": "stderr",
          "output_type": "stream",
          "text": [
            "WARNING:absl:Found untraced functions such as _jit_compiled_convolution_op, _jit_compiled_convolution_op, _jit_compiled_convolution_op while saving (showing 3 of 3). These functions will not be directly callable after loading.\n"
          ]
        },
        {
          "name": "stdout",
          "output_type": "stream",
          "text": [
            "\b\b\b\b\b\b\b\b\b\b\b\b\b\b\b\b\b\b\b\b\b\b\b\b\b\b\b\b\b\b\b\b\b\b\b\b\b\b\b\b\b\b\b\b\b\b\b\b\b\b\b\b\b\b\b\b\b\b\b\b\b\b\b\b\b\b\b\b\b\b\b\b\b\b\b\b\b\b\b\b\b\b\b\b\b\b\b\b\r782/782 [==============================] - 103s 131ms/step - loss: 2.6617e-08 - accuracy: 1.0000 - val_loss: 5.8465e-07 - val_accuracy: 1.0000\n",
            "Epoch 2/20\n",
            "781/782 [============================>.] - ETA: 0s - loss: 1.8064e-08 - accuracy: 1.0000"
          ]
        },
        {
          "name": "stderr",
          "output_type": "stream",
          "text": [
            "WARNING:absl:Found untraced functions such as _jit_compiled_convolution_op, _jit_compiled_convolution_op, _jit_compiled_convolution_op while saving (showing 3 of 3). These functions will not be directly callable after loading.\n"
          ]
        },
        {
          "name": "stdout",
          "output_type": "stream",
          "text": [
            "\b\b\b\b\b\b\b\b\b\b\b\b\b\b\b\b\b\b\b\b\b\b\b\b\b\b\b\b\b\b\b\b\b\b\b\b\b\b\b\b\b\b\b\b\b\b\b\b\b\b\b\b\b\b\b\b\b\b\b\b\b\b\b\b\b\b\b\b\b\b\b\b\b\b\b\b\b\b\b\b\b\b\b\b\b\b\b\b\r782/782 [==============================] - 111s 142ms/step - loss: 1.8058e-08 - accuracy: 1.0000 - val_loss: 3.8912e-07 - val_accuracy: 1.0000\n",
            "Epoch 3/20\n",
            "781/782 [============================>.] - ETA: 0s - loss: 1.2054e-08 - accuracy: 1.0000"
          ]
        },
        {
          "name": "stderr",
          "output_type": "stream",
          "text": [
            "WARNING:absl:Found untraced functions such as _jit_compiled_convolution_op, _jit_compiled_convolution_op, _jit_compiled_convolution_op while saving (showing 3 of 3). These functions will not be directly callable after loading.\n"
          ]
        },
        {
          "name": "stdout",
          "output_type": "stream",
          "text": [
            "\b\b\b\b\b\b\b\b\b\b\b\b\b\b\b\b\b\b\b\b\b\b\b\b\b\b\b\b\b\b\b\b\b\b\b\b\b\b\b\b\b\b\b\b\b\b\b\b\b\b\b\b\b\b\b\b\b\b\b\b\b\b\b\b\b\b\b\b\b\b\b\b\b\b\b\b\b\b\b\b\b\b\b\b\b\b\b\b\r782/782 [==============================] - 101s 129ms/step - loss: 1.2054e-08 - accuracy: 1.0000 - val_loss: 2.9839e-07 - val_accuracy: 1.0000\n",
            "Epoch 4/20\n",
            "781/782 [============================>.] - ETA: 0s - loss: 8.5906e-09 - accuracy: 1.0000"
          ]
        },
        {
          "name": "stderr",
          "output_type": "stream",
          "text": [
            "WARNING:absl:Found untraced functions such as _jit_compiled_convolution_op, _jit_compiled_convolution_op, _jit_compiled_convolution_op while saving (showing 3 of 3). These functions will not be directly callable after loading.\n"
          ]
        },
        {
          "name": "stdout",
          "output_type": "stream",
          "text": [
            "\b\b\b\b\b\b\b\b\b\b\b\b\b\b\b\b\b\b\b\b\b\b\b\b\b\b\b\b\b\b\b\b\b\b\b\b\b\b\b\b\b\b\b\b\b\b\b\b\b\b\b\b\b\b\b\b\b\b\b\b\b\b\b\b\b\b\b\b\b\b\b\b\b\b\b\b\b\b\b\b\b\b\b\b\b\b\b\b\r782/782 [==============================] - 99s 126ms/step - loss: 8.5878e-09 - accuracy: 1.0000 - val_loss: 1.7788e-07 - val_accuracy: 1.0000\n",
            "Epoch 5/20\n",
            "781/782 [============================>.] - ETA: 0s - loss: 5.9910e-09 - accuracy: 1.0000"
          ]
        },
        {
          "name": "stderr",
          "output_type": "stream",
          "text": [
            "WARNING:absl:Found untraced functions such as _jit_compiled_convolution_op, _jit_compiled_convolution_op, _jit_compiled_convolution_op while saving (showing 3 of 3). These functions will not be directly callable after loading.\n"
          ]
        },
        {
          "name": "stdout",
          "output_type": "stream",
          "text": [
            "\b\b\b\b\b\b\b\b\b\b\b\b\b\b\b\b\b\b\b\b\b\b\b\b\b\b\b\b\b\b\b\b\b\b\b\b\b\b\b\b\b\b\b\b\b\b\b\b\b\b\b\b\b\b\b\b\b\b\b\b\b\b\b\b\b\b\b\b\b\b\b\b\b\b\b\b\b\b\b\b\b\b\b\b\b\b\b\b\r782/782 [==============================] - 101s 129ms/step - loss: 5.9891e-09 - accuracy: 1.0000 - val_loss: 1.1143e-07 - val_accuracy: 1.0000\n",
            "Epoch 6/20\n",
            "781/782 [============================>.] - ETA: 0s - loss: 4.4885e-09 - accuracy: 1.0000"
          ]
        },
        {
          "name": "stderr",
          "output_type": "stream",
          "text": [
            "WARNING:absl:Found untraced functions such as _jit_compiled_convolution_op, _jit_compiled_convolution_op, _jit_compiled_convolution_op while saving (showing 3 of 3). These functions will not be directly callable after loading.\n"
          ]
        },
        {
          "name": "stdout",
          "output_type": "stream",
          "text": [
            "\b\b\b\b\b\b\b\b\b\b\b\b\b\b\b\b\b\b\b\b\b\b\b\b\b\b\b\b\b\b\b\b\b\b\b\b\b\b\b\b\b\b\b\b\b\b\b\b\b\b\b\b\b\b\b\b\b\b\b\b\b\b\b\b\b\b\b\b\b\b\b\b\b\b\b\b\b\b\b\b\b\b\b\b\b\b\b\b\r782/782 [==============================] - 101s 130ms/step - loss: 4.4870e-09 - accuracy: 1.0000 - val_loss: 5.9625e-08 - val_accuracy: 1.0000\n",
            "Epoch 7/20\n",
            "781/782 [============================>.] - ETA: 0s - loss: 3.2292e-09 - accuracy: 1.0000"
          ]
        },
        {
          "name": "stderr",
          "output_type": "stream",
          "text": [
            "WARNING:absl:Found untraced functions such as _jit_compiled_convolution_op, _jit_compiled_convolution_op, _jit_compiled_convolution_op while saving (showing 3 of 3). These functions will not be directly callable after loading.\n"
          ]
        },
        {
          "name": "stdout",
          "output_type": "stream",
          "text": [
            "\b\b\b\b\b\b\b\b\b\b\b\b\b\b\b\b\b\b\b\b\b\b\b\b\b\b\b\b\b\b\b\b\b\b\b\b\b\b\b\b\b\b\b\b\b\b\b\b\b\b\b\b\b\b\b\b\b\b\b\b\b\b\b\b\b\b\b\b\b\b\b\b\b\b\b\b\b\b\b\b\b\b\b\b\b\b\b\b\r782/782 [==============================] - 102s 130ms/step - loss: 3.2282e-09 - accuracy: 1.0000 - val_loss: 3.5786e-08 - val_accuracy: 1.0000\n",
            "Epoch 8/20\n",
            "781/782 [============================>.] - ETA: 0s - loss: 2.6091e-09 - accuracy: 1.0000"
          ]
        },
        {
          "name": "stderr",
          "output_type": "stream",
          "text": [
            "WARNING:absl:Found untraced functions such as _jit_compiled_convolution_op, _jit_compiled_convolution_op, _jit_compiled_convolution_op while saving (showing 3 of 3). These functions will not be directly callable after loading.\n"
          ]
        },
        {
          "name": "stdout",
          "output_type": "stream",
          "text": [
            "\b\b\b\b\b\b\b\b\b\b\b\b\b\b\b\b\b\b\b\b\b\b\b\b\b\b\b\b\b\b\b\b\b\b\b\b\b\b\b\b\b\b\b\b\b\b\b\b\b\b\b\b\b\b\b\b\b\b\b\b\b\b\b\b\b\b\b\b\b\b\b\b\b\b\b\b\b\b\b\b\b\b\b\b\b\b\b\b\r782/782 [==============================] - 111s 141ms/step - loss: 2.6083e-09 - accuracy: 1.0000 - val_loss: 2.3939e-08 - val_accuracy: 1.0000\n",
            "Epoch 9/20\n",
            "782/782 [==============================] - 102s 131ms/step - loss: 2.1029e-09 - accuracy: 1.0000 - val_loss: 3.0299e-08 - val_accuracy: 1.0000\n",
            "Epoch 10/20\n",
            "781/782 [============================>.] - ETA: 0s - loss: 1.7124e-09 - accuracy: 1.0000"
          ]
        },
        {
          "name": "stderr",
          "output_type": "stream",
          "text": [
            "WARNING:absl:Found untraced functions such as _jit_compiled_convolution_op, _jit_compiled_convolution_op, _jit_compiled_convolution_op while saving (showing 3 of 3). These functions will not be directly callable after loading.\n"
          ]
        },
        {
          "name": "stdout",
          "output_type": "stream",
          "text": [
            "\b\b\b\b\b\b\b\b\b\b\b\b\b\b\b\b\b\b\b\b\b\b\b\b\b\b\b\b\b\b\b\b\b\b\b\b\b\b\b\b\b\b\b\b\b\b\b\b\b\b\b\b\b\b\b\b\b\b\b\b\b\b\b\b\b\b\b\b\b\b\b\b\b\b\b\b\b\b\b\b\b\b\b\b\b\b\b\b\r782/782 [==============================] - 99s 127ms/step - loss: 1.7118e-09 - accuracy: 1.0000 - val_loss: 1.6121e-08 - val_accuracy: 1.0000\n",
            "Epoch 11/20\n",
            "781/782 [============================>.] - ETA: 0s - loss: 1.4548e-09 - accuracy: 1.0000"
          ]
        },
        {
          "name": "stderr",
          "output_type": "stream",
          "text": [
            "WARNING:absl:Found untraced functions such as _jit_compiled_convolution_op, _jit_compiled_convolution_op, _jit_compiled_convolution_op while saving (showing 3 of 3). These functions will not be directly callable after loading.\n"
          ]
        },
        {
          "name": "stdout",
          "output_type": "stream",
          "text": [
            "\b\b\b\b\b\b\b\b\b\b\b\b\b\b\b\b\b\b\b\b\b\b\b\b\b\b\b\b\b\b\b\b\b\b\b\b\b\b\b\b\b\b\b\b\b\b\b\b\b\b\b\b\b\b\b\b\b\b\b\b\b\b\b\b\b\b\b\b\b\b\b\b\b\b\b\b\b\b\b\b\b\b\b\b\b\b\b\b\r782/782 [==============================] - 101s 129ms/step - loss: 1.4544e-09 - accuracy: 1.0000 - val_loss: 1.1654e-08 - val_accuracy: 1.0000\n",
            "Epoch 12/20\n",
            "781/782 [============================>.] - ETA: 0s - loss: 1.3165e-09 - accuracy: 1.0000"
          ]
        },
        {
          "name": "stderr",
          "output_type": "stream",
          "text": [
            "WARNING:absl:Found untraced functions such as _jit_compiled_convolution_op, _jit_compiled_convolution_op, _jit_compiled_convolution_op while saving (showing 3 of 3). These functions will not be directly callable after loading.\n"
          ]
        },
        {
          "name": "stdout",
          "output_type": "stream",
          "text": [
            "\b\b\b\b\b\b\b\b\b\b\b\b\b\b\b\b\b\b\b\b\b\b\b\b\b\b\b\b\b\b\b\b\b\b\b\b\b\b\b\b\b\b\b\b\b\b\b\b\b\b\b\b\b\b\b\b\b\b\b\b\b\b\b\b\b\b\b\b\b\b\b\b\b\b\b\b\b\b\b\b\b\b\b\b\b\b\b\b\r782/782 [==============================] - 101s 129ms/step - loss: 1.3161e-09 - accuracy: 1.0000 - val_loss: 6.9437e-09 - val_accuracy: 1.0000\n",
            "Epoch 13/20\n",
            "782/782 [==============================] - 98s 125ms/step - loss: 0.1032 - accuracy: 0.9730 - val_loss: 0.0376 - val_accuracy: 0.9894\n",
            "Epoch 14/20\n",
            "782/782 [==============================] - 99s 127ms/step - loss: 0.0085 - accuracy: 0.9976 - val_loss: 1.2898e-04 - val_accuracy: 1.0000\n",
            "Epoch 15/20\n",
            "782/782 [==============================] - 99s 127ms/step - loss: 6.4249e-05 - accuracy: 1.0000 - val_loss: 6.7462e-05 - val_accuracy: 1.0000\n",
            "Epoch 16/20\n",
            "782/782 [==============================] - 98s 125ms/step - loss: 3.2023e-05 - accuracy: 1.0000 - val_loss: 4.1584e-05 - val_accuracy: 1.0000\n",
            "Epoch 17/20\n",
            "782/782 [==============================] - 99s 127ms/step - loss: 1.8764e-05 - accuracy: 1.0000 - val_loss: 2.6685e-05 - val_accuracy: 1.0000\n"
          ]
        }
      ],
      "source": [
        "history = model.fit(X_train, y_train, epochs=20, validation_data=(X_valid, y_valid), callbacks=[save_best_cb, early_stopping_cb])"
      ]
    },
    {
      "cell_type": "code",
      "execution_count": 24,
      "metadata": {
        "id": "y0EDsKrLUXQh"
      },
      "outputs": [],
      "source": [
        "import pickle\n",
        "with open('models/intial-end-to-end-history', 'wb') as history_file:\n",
        "     pickle.dump(history.history, history_file)"
      ]
    },
    {
      "cell_type": "code",
      "execution_count": 25,
      "metadata": {
        "colab": {
          "base_uri": "https://localhost:8080/",
          "height": 338
        },
        "id": "EdLDacp_c-fc",
        "outputId": "b84c93c0-ff8f-4a86-81dc-2f46dce08b66"
      },
      "outputs": [
        {
          "data": {
            "text/plain": [
              "<matplotlib.legend.Legend at 0x7f7a26f97040>"
            ]
          },
          "execution_count": 25,
          "metadata": {},
          "output_type": "execute_result"
        },
        {
          "data": {
            "image/png": "[encoded data removed]",
            "text/plain": [
              "<Figure size 720x360 with 1 Axes>"
            ]
          },
          "metadata": {
            "needs_background": "light"
          },
          "output_type": "display_data"
        }
      ],
      "source": [
        "h = np.load('models/intial-end-to-end-history', allow_pickle=True)\n",
        "best_model = keras.models.load_model('models/initial-end-to-end') \n",
        "fig, ax = plt.subplots(figsize=(10, 5))\n",
        "n_epochs = len(h['loss'])\n",
        "ax.plot(range(1, n_epochs+1), h['loss'], color='b', label='train_loss')\n",
        "ax.plot(range(1, n_epochs+1), h['val_loss'], color='c', label='val_loss')\n",
        "ax.plot(range(1, n_epochs+1), h['accuracy'], color='b', label='train_accuracy', linestyle='--')\n",
        "ax.plot(range(1, n_epochs+1), h['val_accuracy'], color='c', label='val_accuracy', linestyle='--')\n",
        "ax.set_xticks(range(1, n_epochs+1))\n",
        "ax.legend()"
      ]
    },
    {
      "cell_type": "code",
      "execution_count": 91,
      "metadata": {
        "id": "7eS4qGrnjxGm"
      },
      "outputs": [],
      "source": [
        "X_test, y_test = df_test.drop('label', axis=1), df_test['label']"
      ]
    },
    {
      "cell_type": "code",
      "execution_count": 92,
      "metadata": {
        "id": "YxtyxO1CkSyI"
      },
      "outputs": [],
      "source": [
        "X_test = tf.reshape(X_test, [-1, 28, 28, 1])"
      ]
    },
    {
      "cell_type": "code",
      "execution_count": 93,
      "metadata": {
        "id": "OI-fUSckkbpw"
      },
      "outputs": [],
      "source": [
        "y_test = label_binarizer.transform(y_test)"
      ]
    },
    {
      "cell_type": "code",
      "execution_count": 30,
      "metadata": {
        "colab": {
          "base_uri": "https://localhost:8080/"
        },
        "id": "Xbmb48kDkdqZ",
        "outputId": "6ed0f3a1-3e23-4299-cb6c-577bd02a12d2"
      },
      "outputs": [
        {
          "name": "stdout",
          "output_type": "stream",
          "text": [
            "225/225 [==============================] - 8s 34ms/step - loss: 0.2588 - accuracy: 0.9506\n"
          ]
        },
        {
          "data": {
            "text/plain": [
              "[0.25876376032829285, 0.950641393661499]"
            ]
          },
          "execution_count": 30,
          "metadata": {},
          "output_type": "execute_result"
        }
      ],
      "source": [
        "best_model.evaluate(X_test, y_test)"
      ]
    },
    {
      "cell_type": "code",
      "execution_count": 81,
      "metadata": {
        "id": "hcoxHrWSknhN"
      },
      "outputs": [],
      "source": [
        "\n",
        "model2 = keras.models.Sequential()\n",
        "model2.add(keras.layers.Conv2D(32, (5, 5), padding='same', activation='relu', input_shape=(28, 28, 1)))\n",
        "model2.add(keras.layers.MaxPooling2D(pool_size=(2, 2)))\n",
        "model2.add(keras.layers.Conv2D(64, (5, 5), padding='same', activation='relu'))\n",
        "model2.add(keras.layers.MaxPooling2D(pool_size=(2, 2)))\n",
        "model2.add(keras.layers.Conv2D(128, (5, 5), padding='same', activation='relu'))\n",
        "model2.add(keras.layers.MaxPooling2D(pool_size=(2, 2)))\n",
        "model2.add(keras.layers.Flatten())\n",
        "model2.add(keras.layers.Dense(128, activation='relu'))\n",
        "model2.add(keras.layers.Dense(24, activation='softmax'))"
      ]
    },
    {
      "cell_type": "code",
      "execution_count": 82,
      "metadata": {
        "id": "rRdkWxfOlzTu"
      },
      "outputs": [],
      "source": [
        " model2.compile(loss='categorical_crossentropy', optimizer='sgd', metrics=['accuracy'])"
      ]
    },
    {
      "cell_type": "code",
      "execution_count": 83,
      "metadata": {
        "id": "xlcWzttQmA4S"
      },
      "outputs": [],
      "source": [
        "save_best_cb = keras.callbacks.ModelCheckpoint('models/initial-end-to-end2', save_best_only=True) # Saves the best model so far\n",
        "early_stopping_cb = keras.callbacks.EarlyStopping(patience=5) # Interupts training when there is no progress"
      ]
    },
    {
      "cell_type": "code",
      "execution_count": 85,
      "metadata": {
        "colab": {
          "base_uri": "https://localhost:8080/"
        },
        "id": "mpNG00NPmJXU",
        "outputId": "1966eef1-f220-42cd-9f66-b0c703f5ba84"
      },
      "outputs": [
        {
          "name": "stdout",
          "output_type": "stream",
          "text": [
            "Epoch 1/20\n",
            "610/610 [==============================] - ETA: 0s - loss: 9.5661e-04 - accuracy: 1.0000"
          ]
        },
        {
          "name": "stderr",
          "output_type": "stream",
          "text": [
            "WARNING:absl:Found untraced functions such as _jit_compiled_convolution_op, _jit_compiled_convolution_op, _jit_compiled_convolution_op while saving (showing 3 of 3). These functions will not be directly callable after loading.\n"
          ]
        },
        {
          "name": "stdout",
          "output_type": "stream",
          "text": [
            "610/610 [==============================] - 112s 184ms/step - loss: 9.5661e-04 - accuracy: 1.0000 - val_loss: 0.0011 - val_accuracy: 1.0000\n",
            "Epoch 2/20\n",
            "610/610 [==============================] - ETA: 0s - loss: 8.7911e-04 - accuracy: 1.0000"
          ]
        },
        {
          "name": "stderr",
          "output_type": "stream",
          "text": [
            "WARNING:absl:Found untraced functions such as _jit_compiled_convolution_op, _jit_compiled_convolution_op, _jit_compiled_convolution_op while saving (showing 3 of 3). These functions will not be directly callable after loading.\n"
          ]
        },
        {
          "name": "stdout",
          "output_type": "stream",
          "text": [
            "610/610 [==============================] - 104s 170ms/step - loss: 8.7911e-04 - accuracy: 1.0000 - val_loss: 9.9812e-04 - val_accuracy: 1.0000\n",
            "Epoch 3/20\n",
            "610/610 [==============================] - ETA: 0s - loss: 8.2263e-04 - accuracy: 1.0000"
          ]
        },
        {
          "name": "stderr",
          "output_type": "stream",
          "text": [
            "WARNING:absl:Found untraced functions such as _jit_compiled_convolution_op, _jit_compiled_convolution_op, _jit_compiled_convolution_op while saving (showing 3 of 3). These functions will not be directly callable after loading.\n"
          ]
        },
        {
          "name": "stdout",
          "output_type": "stream",
          "text": [
            "610/610 [==============================] - 98s 161ms/step - loss: 8.2263e-04 - accuracy: 1.0000 - val_loss: 9.5983e-04 - val_accuracy: 1.0000\n",
            "Epoch 4/20\n",
            "610/610 [==============================] - ETA: 0s - loss: 7.6273e-04 - accuracy: 1.0000"
          ]
        },
        {
          "name": "stderr",
          "output_type": "stream",
          "text": [
            "WARNING:absl:Found untraced functions such as _jit_compiled_convolution_op, _jit_compiled_convolution_op, _jit_compiled_convolution_op while saving (showing 3 of 3). These functions will not be directly callable after loading.\n"
          ]
        },
        {
          "name": "stdout",
          "output_type": "stream",
          "text": [
            "610/610 [==============================] - 97s 160ms/step - loss: 7.6273e-04 - accuracy: 1.0000 - val_loss: 8.7744e-04 - val_accuracy: 1.0000\n",
            "Epoch 5/20\n",
            "610/610 [==============================] - ETA: 0s - loss: 7.2445e-04 - accuracy: 1.0000"
          ]
        },
        {
          "name": "stderr",
          "output_type": "stream",
          "text": [
            "WARNING:absl:Found untraced functions such as _jit_compiled_convolution_op, _jit_compiled_convolution_op, _jit_compiled_convolution_op while saving (showing 3 of 3). These functions will not be directly callable after loading.\n"
          ]
        },
        {
          "name": "stdout",
          "output_type": "stream",
          "text": [
            "610/610 [==============================] - 96s 157ms/step - loss: 7.2445e-04 - accuracy: 1.0000 - val_loss: 8.4031e-04 - val_accuracy: 1.0000\n",
            "Epoch 6/20\n",
            "610/610 [==============================] - ETA: 0s - loss: 6.7658e-04 - accuracy: 1.0000"
          ]
        },
        {
          "name": "stderr",
          "output_type": "stream",
          "text": [
            "WARNING:absl:Found untraced functions such as _jit_compiled_convolution_op, _jit_compiled_convolution_op, _jit_compiled_convolution_op while saving (showing 3 of 3). These functions will not be directly callable after loading.\n"
          ]
        },
        {
          "name": "stdout",
          "output_type": "stream",
          "text": [
            "610/610 [==============================] - 99s 162ms/step - loss: 6.7658e-04 - accuracy: 1.0000 - val_loss: 7.8365e-04 - val_accuracy: 1.0000\n",
            "Epoch 7/20\n",
            "610/610 [==============================] - ETA: 0s - loss: 6.3897e-04 - accuracy: 1.0000"
          ]
        },
        {
          "name": "stderr",
          "output_type": "stream",
          "text": [
            "WARNING:absl:Found untraced functions such as _jit_compiled_convolution_op, _jit_compiled_convolution_op, _jit_compiled_convolution_op while saving (showing 3 of 3). These functions will not be directly callable after loading.\n"
          ]
        },
        {
          "name": "stdout",
          "output_type": "stream",
          "text": [
            "610/610 [==============================] - 97s 159ms/step - loss: 6.3897e-04 - accuracy: 1.0000 - val_loss: 7.3486e-04 - val_accuracy: 1.0000\n",
            "Epoch 8/20\n",
            "610/610 [==============================] - ETA: 0s - loss: 6.0330e-04 - accuracy: 1.0000"
          ]
        },
        {
          "name": "stderr",
          "output_type": "stream",
          "text": [
            "WARNING:absl:Found untraced functions such as _jit_compiled_convolution_op, _jit_compiled_convolution_op, _jit_compiled_convolution_op while saving (showing 3 of 3). These functions will not be directly callable after loading.\n"
          ]
        },
        {
          "name": "stdout",
          "output_type": "stream",
          "text": [
            "610/610 [==============================] - 106s 174ms/step - loss: 6.0330e-04 - accuracy: 1.0000 - val_loss: 6.9299e-04 - val_accuracy: 1.0000\n",
            "Epoch 9/20\n",
            "610/610 [==============================] - ETA: 0s - loss: 5.7168e-04 - accuracy: 1.0000"
          ]
        },
        {
          "name": "stderr",
          "output_type": "stream",
          "text": [
            "WARNING:absl:Found untraced functions such as _jit_compiled_convolution_op, _jit_compiled_convolution_op, _jit_compiled_convolution_op while saving (showing 3 of 3). These functions will not be directly callable after loading.\n"
          ]
        },
        {
          "name": "stdout",
          "output_type": "stream",
          "text": [
            "610/610 [==============================] - 97s 160ms/step - loss: 5.7168e-04 - accuracy: 1.0000 - val_loss: 6.7150e-04 - val_accuracy: 1.0000\n",
            "Epoch 10/20\n",
            "610/610 [==============================] - ETA: 0s - loss: 5.4105e-04 - accuracy: 1.0000"
          ]
        },
        {
          "name": "stderr",
          "output_type": "stream",
          "text": [
            "WARNING:absl:Found untraced functions such as _jit_compiled_convolution_op, _jit_compiled_convolution_op, _jit_compiled_convolution_op while saving (showing 3 of 3). These functions will not be directly callable after loading.\n"
          ]
        },
        {
          "name": "stdout",
          "output_type": "stream",
          "text": [
            "610/610 [==============================] - 99s 163ms/step - loss: 5.4105e-04 - accuracy: 1.0000 - val_loss: 6.6047e-04 - val_accuracy: 1.0000\n",
            "Epoch 11/20\n",
            "610/610 [==============================] - ETA: 0s - loss: 5.1651e-04 - accuracy: 1.0000"
          ]
        },
        {
          "name": "stderr",
          "output_type": "stream",
          "text": [
            "WARNING:absl:Found untraced functions such as _jit_compiled_convolution_op, _jit_compiled_convolution_op, _jit_compiled_convolution_op while saving (showing 3 of 3). These functions will not be directly callable after loading.\n"
          ]
        },
        {
          "name": "stdout",
          "output_type": "stream",
          "text": [
            "610/610 [==============================] - 97s 160ms/step - loss: 5.1651e-04 - accuracy: 1.0000 - val_loss: 5.9836e-04 - val_accuracy: 1.0000\n",
            "Epoch 12/20\n",
            "610/610 [==============================] - ETA: 0s - loss: 4.9575e-04 - accuracy: 1.0000"
          ]
        },
        {
          "name": "stderr",
          "output_type": "stream",
          "text": [
            "WARNING:absl:Found untraced functions such as _jit_compiled_convolution_op, _jit_compiled_convolution_op, _jit_compiled_convolution_op while saving (showing 3 of 3). These functions will not be directly callable after loading.\n"
          ]
        },
        {
          "name": "stdout",
          "output_type": "stream",
          "text": [
            "610/610 [==============================] - 99s 162ms/step - loss: 4.9575e-04 - accuracy: 1.0000 - val_loss: 5.7800e-04 - val_accuracy: 1.0000\n",
            "Epoch 13/20\n",
            "610/610 [==============================] - ETA: 0s - loss: 4.7785e-04 - accuracy: 1.0000"
          ]
        },
        {
          "name": "stderr",
          "output_type": "stream",
          "text": [
            "WARNING:absl:Found untraced functions such as _jit_compiled_convolution_op, _jit_compiled_convolution_op, _jit_compiled_convolution_op while saving (showing 3 of 3). These functions will not be directly callable after loading.\n"
          ]
        },
        {
          "name": "stdout",
          "output_type": "stream",
          "text": [
            "610/610 [==============================] - 98s 161ms/step - loss: 4.7785e-04 - accuracy: 1.0000 - val_loss: 5.6214e-04 - val_accuracy: 1.0000\n",
            "Epoch 14/20\n",
            "610/610 [==============================] - ETA: 0s - loss: 4.5361e-04 - accuracy: 1.0000"
          ]
        },
        {
          "name": "stderr",
          "output_type": "stream",
          "text": [
            "WARNING:absl:Found untraced functions such as _jit_compiled_convolution_op, _jit_compiled_convolution_op, _jit_compiled_convolution_op while saving (showing 3 of 3). These functions will not be directly callable after loading.\n"
          ]
        },
        {
          "name": "stdout",
          "output_type": "stream",
          "text": [
            "610/610 [==============================] - 97s 158ms/step - loss: 4.5361e-04 - accuracy: 1.0000 - val_loss: 5.3563e-04 - val_accuracy: 1.0000\n",
            "Epoch 15/20\n",
            "610/610 [==============================] - 98s 160ms/step - loss: 4.3372e-04 - accuracy: 1.0000 - val_loss: 5.5264e-04 - val_accuracy: 1.0000\n",
            "Epoch 16/20\n",
            "610/610 [==============================] - ETA: 0s - loss: 4.1685e-04 - accuracy: 1.0000"
          ]
        },
        {
          "name": "stderr",
          "output_type": "stream",
          "text": [
            "WARNING:absl:Found untraced functions such as _jit_compiled_convolution_op, _jit_compiled_convolution_op, _jit_compiled_convolution_op while saving (showing 3 of 3). These functions will not be directly callable after loading.\n"
          ]
        },
        {
          "name": "stdout",
          "output_type": "stream",
          "text": [
            "610/610 [==============================] - 97s 159ms/step - loss: 4.1685e-04 - accuracy: 1.0000 - val_loss: 5.1422e-04 - val_accuracy: 1.0000\n",
            "Epoch 17/20\n",
            "610/610 [==============================] - ETA: 0s - loss: 4.0248e-04 - accuracy: 1.0000"
          ]
        },
        {
          "name": "stderr",
          "output_type": "stream",
          "text": [
            "WARNING:absl:Found untraced functions such as _jit_compiled_convolution_op, _jit_compiled_convolution_op, _jit_compiled_convolution_op while saving (showing 3 of 3). These functions will not be directly callable after loading.\n"
          ]
        },
        {
          "name": "stdout",
          "output_type": "stream",
          "text": [
            "610/610 [==============================] - 98s 161ms/step - loss: 4.0248e-04 - accuracy: 1.0000 - val_loss: 4.7765e-04 - val_accuracy: 1.0000\n",
            "Epoch 18/20\n",
            "610/610 [==============================] - ETA: 0s - loss: 3.8579e-04 - accuracy: 1.0000"
          ]
        },
        {
          "name": "stderr",
          "output_type": "stream",
          "text": [
            "WARNING:absl:Found untraced functions such as _jit_compiled_convolution_op, _jit_compiled_convolution_op, _jit_compiled_convolution_op while saving (showing 3 of 3). These functions will not be directly callable after loading.\n"
          ]
        },
        {
          "name": "stdout",
          "output_type": "stream",
          "text": [
            "610/610 [==============================] - 97s 159ms/step - loss: 3.8579e-04 - accuracy: 1.0000 - val_loss: 4.6860e-04 - val_accuracy: 1.0000\n",
            "Epoch 19/20\n",
            "610/610 [==============================] - ETA: 0s - loss: 3.7281e-04 - accuracy: 1.0000"
          ]
        },
        {
          "name": "stderr",
          "output_type": "stream",
          "text": [
            "WARNING:absl:Found untraced functions such as _jit_compiled_convolution_op, _jit_compiled_convolution_op, _jit_compiled_convolution_op while saving (showing 3 of 3). These functions will not be directly callable after loading.\n"
          ]
        },
        {
          "name": "stdout",
          "output_type": "stream",
          "text": [
            "610/610 [==============================] - 98s 160ms/step - loss: 3.7281e-04 - accuracy: 1.0000 - val_loss: 4.4951e-04 - val_accuracy: 1.0000\n",
            "Epoch 20/20\n",
            "610/610 [==============================] - ETA: 0s - loss: 3.5841e-04 - accuracy: 1.0000"
          ]
        },
        {
          "name": "stderr",
          "output_type": "stream",
          "text": [
            "WARNING:absl:Found untraced functions such as _jit_compiled_convolution_op, _jit_compiled_convolution_op, _jit_compiled_convolution_op while saving (showing 3 of 3). These functions will not be directly callable after loading.\n"
          ]
        },
        {
          "name": "stdout",
          "output_type": "stream",
          "text": [
            "\b\b\b\b\b\b\b\b\b\b\b\b\b\b\b\b\b\b\b\b\b\b\b\b\b\b\b\b\b\b\b\b\b\b\b\b\b\b\b\b\b\b\b\b\b\b\b\b\b\b\b\b\b\b\b\b\b\b\b\b\b\b\b\b\b\b\b\b\b\b\b\b\b\b\b\b\b\b\b\b\b\b\b\b\b\b\b\b\r610/610 [==============================] - 97s 159ms/step - loss: 3.5841e-04 - accuracy: 1.0000 - val_loss: 4.3319e-04 - val_accuracy: 1.0000\n"
          ]
        }
      ],
      "source": [
        "history2 = model2.fit(X_train, y_train, epochs=20, validation_data=(X_valid, y_valid), callbacks=[save_best_cb, early_stopping_cb])"
      ]
    },
    {
      "cell_type": "code",
      "execution_count": 86,
      "metadata": {
        "id": "VyGuomalmToo"
      },
      "outputs": [],
      "source": [
        "import pickle\n",
        "with open('models/intial-end-to-end-history2', 'wb') as history_file:\n",
        "     pickle.dump(history2.history, history_file)"
      ]
    },
    {
      "cell_type": "code",
      "execution_count": 94,
      "metadata": {
        "colab": {
          "base_uri": "https://localhost:8080/",
          "height": 338
        },
        "id": "tQQWlgNnt_Y0",
        "outputId": "766571d0-267f-440b-cc1d-9027e7963b61"
      },
      "outputs": [
        {
          "data": {
            "text/plain": [
              "<matplotlib.legend.Legend at 0x7f98a2c0bbe0>"
            ]
          },
          "execution_count": 94,
          "metadata": {},
          "output_type": "execute_result"
        },
        {
          "data": {
            "image/png": "[encoded data removed]",
            "text/plain": [
              "<Figure size 720x360 with 1 Axes>"
            ]
          },
          "metadata": {
            "needs_background": "light"
          },
          "output_type": "display_data"
        }
      ],
      "source": [
        "h = np.load('models/intial-end-to-end-history2', allow_pickle=True)\n",
        "best_model = keras.models.load_model('models/initial-end-to-end2') \n",
        "fig, ax = plt.subplots(figsize=(10, 5))\n",
        "n_epochs = len(h['loss'])\n",
        "ax.plot(range(1, n_epochs+1), h['loss'], color='b', label='train_loss')\n",
        "ax.plot(range(1, n_epochs+1), h['val_loss'], color='c', label='val_loss')\n",
        "ax.plot(range(1, n_epochs+1), h['accuracy'], color='b', label='train_accuracy', linestyle='--')\n",
        "ax.plot(range(1, n_epochs+1), h['val_accuracy'], color='c', label='val_accuracy', linestyle='--')\n",
        "ax.set_xticks(range(1, n_epochs+1))\n",
        "ax.legend()"
      ]
    },
    {
      "cell_type": "code",
      "execution_count": 95,
      "metadata": {
        "colab": {
          "base_uri": "https://localhost:8080/"
        },
        "id": "vQjeMxbxuGQY",
        "outputId": "71cf37f9-94fe-4ec8-ee2e-4f0bad148bca"
      },
      "outputs": [
        {
          "name": "stdout",
          "output_type": "stream",
          "text": [
            "225/225 [==============================] - 9s 37ms/step - loss: 98.9735 - accuracy: 0.8985\n"
          ]
        },
        {
          "data": {
            "text/plain": [
              "[98.97352600097656, 0.8984941244125366]"
            ]
          },
          "execution_count": 95,
          "metadata": {},
          "output_type": "execute_result"
        }
      ],
      "source": [
        "best_model.evaluate(X_test, y_test)"
      ]
    },
    {
      "cell_type": "code",
      "execution_count": 46,
      "metadata": {
        "id": "gZDmg_88uO5u"
      },
      "outputs": [],
      "source": [
        "\n",
        "X_train, X_valid = X[:19500], X[19500:]\n",
        "y_train, y_valid = y[:19500], y[19500:]\n"
      ]
    },
    {
      "cell_type": "code",
      "execution_count": null,
      "metadata": {
        "colab": {
          "base_uri": "https://localhost:8080/"
        },
        "id": "kQrPGzcNvN13",
        "outputId": "7cce1365-c808-4710-c9e4-cd7c66ae6d71"
      },
      "outputs": [
        {
          "name": "stdout",
          "output_type": "stream",
          "text": [
            "Epoch 1/10\n",
            "609/610 [============================>.] - ETA: 0s - loss: 1.9226 - accuracy: 0.3937"
          ]
        },
        {
          "name": "stderr",
          "output_type": "stream",
          "text": [
            "WARNING:absl:Found untraced functions such as _jit_compiled_convolution_op, _jit_compiled_convolution_op, _jit_compiled_convolution_op while saving (showing 3 of 3). These functions will not be directly callable after loading.\n"
          ]
        },
        {
          "name": "stdout",
          "output_type": "stream",
          "text": [
            "610/610 [==============================] - 69s 113ms/step - loss: 1.9218 - accuracy: 0.3939 - val_loss: 0.3556 - val_accuracy: 0.9065\n",
            "Epoch 2/10\n",
            "609/610 [============================>.] - ETA: 0s - loss: 0.4113 - accuracy: 0.8573"
          ]
        },
        {
          "name": "stderr",
          "output_type": "stream",
          "text": [
            "WARNING:absl:Found untraced functions such as _jit_compiled_convolution_op, _jit_compiled_convolution_op, _jit_compiled_convolution_op while saving (showing 3 of 3). These functions will not be directly callable after loading.\n"
          ]
        },
        {
          "name": "stdout",
          "output_type": "stream",
          "text": [
            "610/610 [==============================] - 69s 114ms/step - loss: 0.4111 - accuracy: 0.8574 - val_loss: 0.0534 - val_accuracy: 0.9913\n",
            "Epoch 3/10\n",
            "609/610 [============================>.] - ETA: 0s - loss: 0.1762 - accuracy: 0.9420"
          ]
        },
        {
          "name": "stderr",
          "output_type": "stream",
          "text": [
            "WARNING:absl:Found untraced functions such as _jit_compiled_convolution_op, _jit_compiled_convolution_op, _jit_compiled_convolution_op while saving (showing 3 of 3). These functions will not be directly callable after loading.\n"
          ]
        },
        {
          "name": "stdout",
          "output_type": "stream",
          "text": [
            "610/610 [==============================] - 70s 116ms/step - loss: 0.1761 - accuracy: 0.9421 - val_loss: 0.0134 - val_accuracy: 0.9977\n",
            "Epoch 4/10\n",
            "609/610 [============================>.] - ETA: 0s - loss: 0.1092 - accuracy: 0.9638"
          ]
        },
        {
          "name": "stderr",
          "output_type": "stream",
          "text": [
            "WARNING:absl:Found untraced functions such as _jit_compiled_convolution_op, _jit_compiled_convolution_op, _jit_compiled_convolution_op while saving (showing 3 of 3). These functions will not be directly callable after loading.\n"
          ]
        },
        {
          "name": "stdout",
          "output_type": "stream",
          "text": [
            "610/610 [==============================] - 68s 112ms/step - loss: 0.1091 - accuracy: 0.9638 - val_loss: 0.0078 - val_accuracy: 0.9986\n",
            "Epoch 5/10\n",
            "609/610 [============================>.] - ETA: 0s - loss: 0.0815 - accuracy: 0.9739"
          ]
        },
        {
          "name": "stderr",
          "output_type": "stream",
          "text": [
            "WARNING:absl:Found untraced functions such as _jit_compiled_convolution_op, _jit_compiled_convolution_op, _jit_compiled_convolution_op while saving (showing 3 of 3). These functions will not be directly callable after loading.\n"
          ]
        },
        {
          "name": "stdout",
          "output_type": "stream",
          "text": [
            "610/610 [==============================] - 68s 111ms/step - loss: 0.0815 - accuracy: 0.9739 - val_loss: 0.0015 - val_accuracy: 1.0000\n",
            "Epoch 6/10\n",
            "609/610 [============================>.] - ETA: 0s - loss: 0.0711 - accuracy: 0.9778"
          ]
        },
        {
          "name": "stderr",
          "output_type": "stream",
          "text": [
            "WARNING:absl:Found untraced functions such as _jit_compiled_convolution_op, _jit_compiled_convolution_op, _jit_compiled_convolution_op while saving (showing 3 of 3). These functions will not be directly callable after loading.\n"
          ]
        },
        {
          "name": "stdout",
          "output_type": "stream",
          "text": [
            "610/610 [==============================] - 68s 112ms/step - loss: 0.0710 - accuracy: 0.9778 - val_loss: 0.0010 - val_accuracy: 1.0000\n",
            "Epoch 7/10\n",
            "609/610 [============================>.] - ETA: 0s - loss: 0.0535 - accuracy: 0.9834"
          ]
        },
        {
          "name": "stderr",
          "output_type": "stream",
          "text": [
            "WARNING:absl:Found untraced functions such as _jit_compiled_convolution_op, _jit_compiled_convolution_op, _jit_compiled_convolution_op while saving (showing 3 of 3). These functions will not be directly callable after loading.\n"
          ]
        },
        {
          "name": "stdout",
          "output_type": "stream",
          "text": [
            "610/610 [==============================] - 69s 114ms/step - loss: 0.0535 - accuracy: 0.9834 - val_loss: 9.4717e-04 - val_accuracy: 0.9999\n",
            "Epoch 8/10\n",
            "610/610 [==============================] - 67s 110ms/step - loss: 0.0528 - accuracy: 0.9833 - val_loss: 0.0012 - val_accuracy: 0.9999\n",
            "Epoch 9/10\n",
            "609/610 [============================>.] - ETA: 0s - loss: 0.0465 - accuracy: 0.9856"
          ]
        },
        {
          "name": "stderr",
          "output_type": "stream",
          "text": [
            "WARNING:absl:Found untraced functions such as _jit_compiled_convolution_op, _jit_compiled_convolution_op, _jit_compiled_convolution_op while saving (showing 3 of 3). These functions will not be directly callable after loading.\n"
          ]
        },
        {
          "name": "stdout",
          "output_type": "stream",
          "text": [
            "610/610 [==============================] - 69s 113ms/step - loss: 0.0465 - accuracy: 0.9856 - val_loss: 3.5268e-04 - val_accuracy: 1.0000\n",
            "Epoch 10/10\n",
            "609/610 [============================>.] - ETA: 0s - loss: 0.0483 - accuracy: 0.9849"
          ]
        },
        {
          "name": "stderr",
          "output_type": "stream",
          "text": [
            "WARNING:absl:Found untraced functions such as _jit_compiled_convolution_op, _jit_compiled_convolution_op, _jit_compiled_convolution_op while saving (showing 3 of 3). These functions will not be directly callable after loading.\n"
          ]
        },
        {
          "name": "stdout",
          "output_type": "stream",
          "text": [
            "610/610 [==============================] - 70s 115ms/step - loss: 0.0485 - accuracy: 0.9848 - val_loss: 1.6194e-04 - val_accuracy: 1.0000\n",
            "Epoch 1/10\n",
            "610/610 [==============================] - ETA: 0s - loss: 2.1944 - accuracy: 0.3166"
          ]
        },
        {
          "name": "stderr",
          "output_type": "stream",
          "text": [
            "WARNING:absl:Found untraced functions such as _jit_compiled_convolution_op, _jit_compiled_convolution_op, _jit_compiled_convolution_op while saving (showing 3 of 3). These functions will not be directly callable after loading.\n"
          ]
        },
        {
          "name": "stdout",
          "output_type": "stream",
          "text": [
            "610/610 [==============================] - 71s 115ms/step - loss: 2.1944 - accuracy: 0.3166 - val_loss: 0.5187 - val_accuracy: 0.8641\n",
            "Epoch 2/10\n",
            "609/610 [============================>.] - ETA: 0s - loss: 0.6061 - accuracy: 0.7904"
          ]
        },
        {
          "name": "stderr",
          "output_type": "stream",
          "text": [
            "WARNING:absl:Found untraced functions such as _jit_compiled_convolution_op, _jit_compiled_convolution_op, _jit_compiled_convolution_op while saving (showing 3 of 3). These functions will not be directly callable after loading.\n"
          ]
        },
        {
          "name": "stdout",
          "output_type": "stream",
          "text": [
            "610/610 [==============================] - 72s 118ms/step - loss: 0.6060 - accuracy: 0.7905 - val_loss: 0.1081 - val_accuracy: 0.9779\n",
            "Epoch 3/10\n",
            "609/610 [============================>.] - ETA: 0s - loss: 0.3143 - accuracy: 0.8912"
          ]
        },
        {
          "name": "stderr",
          "output_type": "stream",
          "text": [
            "WARNING:absl:Found untraced functions such as _jit_compiled_convolution_op, _jit_compiled_convolution_op, _jit_compiled_convolution_op while saving (showing 3 of 3). These functions will not be directly callable after loading.\n"
          ]
        },
        {
          "name": "stdout",
          "output_type": "stream",
          "text": [
            "610/610 [==============================] - 69s 114ms/step - loss: 0.3142 - accuracy: 0.8912 - val_loss: 0.0348 - val_accuracy: 0.9953\n",
            "Epoch 4/10\n",
            "609/610 [============================>.] - ETA: 0s - loss: 0.2115 - accuracy: 0.9290"
          ]
        },
        {
          "name": "stderr",
          "output_type": "stream",
          "text": [
            "WARNING:absl:Found untraced functions such as _jit_compiled_convolution_op, _jit_compiled_convolution_op, _jit_compiled_convolution_op while saving (showing 3 of 3). These functions will not be directly callable after loading.\n"
          ]
        },
        {
          "name": "stdout",
          "output_type": "stream",
          "text": [
            "610/610 [==============================] - 69s 114ms/step - loss: 0.2114 - accuracy: 0.9290 - val_loss: 0.0126 - val_accuracy: 0.9995\n",
            "Epoch 5/10\n",
            "609/610 [============================>.] - ETA: 0s - loss: 0.1570 - accuracy: 0.9480"
          ]
        },
        {
          "name": "stderr",
          "output_type": "stream",
          "text": [
            "WARNING:absl:Found untraced functions such as _jit_compiled_convolution_op, _jit_compiled_convolution_op, _jit_compiled_convolution_op while saving (showing 3 of 3). These functions will not be directly callable after loading.\n"
          ]
        },
        {
          "name": "stdout",
          "output_type": "stream",
          "text": [
            "610/610 [==============================] - 71s 117ms/step - loss: 0.1570 - accuracy: 0.9481 - val_loss: 0.0056 - val_accuracy: 0.9992\n",
            "Epoch 6/10\n",
            "609/610 [============================>.] - ETA: 0s - loss: 0.1285 - accuracy: 0.9578"
          ]
        },
        {
          "name": "stderr",
          "output_type": "stream",
          "text": [
            "WARNING:absl:Found untraced functions such as _jit_compiled_convolution_op, _jit_compiled_convolution_op, _jit_compiled_convolution_op while saving (showing 3 of 3). These functions will not be directly callable after loading.\n"
          ]
        },
        {
          "name": "stdout",
          "output_type": "stream",
          "text": [
            "610/610 [==============================] - 69s 113ms/step - loss: 0.1285 - accuracy: 0.9577 - val_loss: 0.0039 - val_accuracy: 1.0000\n",
            "Epoch 7/10\n",
            "610/610 [==============================] - 67s 110ms/step - loss: 0.1054 - accuracy: 0.9644 - val_loss: 0.0044 - val_accuracy: 0.9991\n",
            "Epoch 8/10\n",
            "609/610 [============================>.] - ETA: 0s - loss: 0.1019 - accuracy: 0.9671"
          ]
        },
        {
          "name": "stderr",
          "output_type": "stream",
          "text": [
            "WARNING:absl:Found untraced functions such as _jit_compiled_convolution_op, _jit_compiled_convolution_op, _jit_compiled_convolution_op while saving (showing 3 of 3). These functions will not be directly callable after loading.\n"
          ]
        },
        {
          "name": "stdout",
          "output_type": "stream",
          "text": [
            "610/610 [==============================] - 71s 116ms/step - loss: 0.1018 - accuracy: 0.9671 - val_loss: 0.0016 - val_accuracy: 1.0000\n",
            "Epoch 9/10\n",
            "610/610 [==============================] - 68s 111ms/step - loss: 0.0909 - accuracy: 0.9707 - val_loss: 0.0017 - val_accuracy: 1.0000\n",
            "Epoch 10/10\n",
            "609/610 [============================>.] - ETA: 0s - loss: 0.0831 - accuracy: 0.9723"
          ]
        },
        {
          "name": "stderr",
          "output_type": "stream",
          "text": [
            "WARNING:absl:Found untraced functions such as _jit_compiled_convolution_op, _jit_compiled_convolution_op, _jit_compiled_convolution_op while saving (showing 3 of 3). These functions will not be directly callable after loading.\n"
          ]
        },
        {
          "name": "stdout",
          "output_type": "stream",
          "text": [
            "610/610 [==============================] - 69s 113ms/step - loss: 0.0831 - accuracy: 0.9723 - val_loss: 5.3527e-04 - val_accuracy: 1.0000\n",
            "Epoch 1/10\n",
            "609/610 [============================>.] - ETA: 0s - loss: 2.6870 - accuracy: 0.1780"
          ]
        },
        {
          "name": "stderr",
          "output_type": "stream",
          "text": [
            "WARNING:absl:Found untraced functions such as _jit_compiled_convolution_op, _jit_compiled_convolution_op, _jit_compiled_convolution_op while saving (showing 3 of 3). These functions will not be directly callable after loading.\n"
          ]
        },
        {
          "name": "stdout",
          "output_type": "stream",
          "text": [
            "610/610 [==============================] - 70s 113ms/step - loss: 2.6865 - accuracy: 0.1782 - val_loss: 1.1665 - val_accuracy: 0.6603\n",
            "Epoch 2/10\n",
            "609/610 [============================>.] - ETA: 0s - loss: 1.1522 - accuracy: 0.6077"
          ]
        },
        {
          "name": "stderr",
          "output_type": "stream",
          "text": [
            "WARNING:absl:Found untraced functions such as _jit_compiled_convolution_op, _jit_compiled_convolution_op, _jit_compiled_convolution_op while saving (showing 3 of 3). These functions will not be directly callable after loading.\n"
          ]
        },
        {
          "name": "stdout",
          "output_type": "stream",
          "text": [
            "610/610 [==============================] - 69s 112ms/step - loss: 1.1519 - accuracy: 0.6077 - val_loss: 0.4339 - val_accuracy: 0.8993\n",
            "Epoch 3/10\n",
            "609/610 [============================>.] - ETA: 0s - loss: 0.7097 - accuracy: 0.7527"
          ]
        },
        {
          "name": "stderr",
          "output_type": "stream",
          "text": [
            "WARNING:absl:Found untraced functions such as _jit_compiled_convolution_op, _jit_compiled_convolution_op, _jit_compiled_convolution_op while saving (showing 3 of 3). These functions will not be directly callable after loading.\n"
          ]
        },
        {
          "name": "stdout",
          "output_type": "stream",
          "text": [
            "610/610 [==============================] - 70s 114ms/step - loss: 0.7094 - accuracy: 0.7528 - val_loss: 0.2123 - val_accuracy: 0.9625\n",
            "Epoch 4/10\n",
            "609/610 [============================>.] - ETA: 0s - loss: 0.5291 - accuracy: 0.8173"
          ]
        },
        {
          "name": "stderr",
          "output_type": "stream",
          "text": [
            "WARNING:absl:Found untraced functions such as _jit_compiled_convolution_op, _jit_compiled_convolution_op, _jit_compiled_convolution_op while saving (showing 3 of 3). These functions will not be directly callable after loading.\n"
          ]
        },
        {
          "name": "stdout",
          "output_type": "stream",
          "text": [
            "610/610 [==============================] - 69s 114ms/step - loss: 0.5292 - accuracy: 0.8173 - val_loss: 0.1158 - val_accuracy: 0.9840\n",
            "Epoch 5/10\n",
            "609/610 [============================>.] - ETA: 0s - loss: 0.4105 - accuracy: 0.8573"
          ]
        },
        {
          "name": "stderr",
          "output_type": "stream",
          "text": [
            "WARNING:absl:Found untraced functions such as _jit_compiled_convolution_op, _jit_compiled_convolution_op, _jit_compiled_convolution_op while saving (showing 3 of 3). These functions will not be directly callable after loading.\n"
          ]
        },
        {
          "name": "stdout",
          "output_type": "stream",
          "text": [
            "610/610 [==============================] - 70s 114ms/step - loss: 0.4105 - accuracy: 0.8572 - val_loss: 0.0612 - val_accuracy: 0.9908\n",
            "Epoch 6/10\n",
            "609/610 [============================>.] - ETA: 0s - loss: 0.3361 - accuracy: 0.8827"
          ]
        },
        {
          "name": "stderr",
          "output_type": "stream",
          "text": [
            "WARNING:absl:Found untraced functions such as _jit_compiled_convolution_op, _jit_compiled_convolution_op, _jit_compiled_convolution_op while saving (showing 3 of 3). These functions will not be directly callable after loading.\n"
          ]
        },
        {
          "name": "stdout",
          "output_type": "stream",
          "text": [
            "610/610 [==============================] - 68s 111ms/step - loss: 0.3360 - accuracy: 0.8828 - val_loss: 0.0503 - val_accuracy: 0.9955\n",
            "Epoch 7/10\n",
            "609/610 [============================>.] - ETA: 0s - loss: 0.2916 - accuracy: 0.9001"
          ]
        },
        {
          "name": "stderr",
          "output_type": "stream",
          "text": [
            "WARNING:absl:Found untraced functions such as _jit_compiled_convolution_op, _jit_compiled_convolution_op, _jit_compiled_convolution_op while saving (showing 3 of 3). These functions will not be directly callable after loading.\n"
          ]
        },
        {
          "name": "stdout",
          "output_type": "stream",
          "text": [
            "610/610 [==============================] - 69s 113ms/step - loss: 0.2915 - accuracy: 0.9002 - val_loss: 0.0252 - val_accuracy: 0.9984\n",
            "Epoch 8/10\n",
            "609/610 [============================>.] - ETA: 0s - loss: 0.2515 - accuracy: 0.9152"
          ]
        },
        {
          "name": "stderr",
          "output_type": "stream",
          "text": [
            "WARNING:absl:Found untraced functions such as _jit_compiled_convolution_op, _jit_compiled_convolution_op, _jit_compiled_convolution_op while saving (showing 3 of 3). These functions will not be directly callable after loading.\n"
          ]
        },
        {
          "name": "stdout",
          "output_type": "stream",
          "text": [
            "610/610 [==============================] - 70s 115ms/step - loss: 0.2519 - accuracy: 0.9151 - val_loss: 0.0132 - val_accuracy: 0.9989\n",
            "Epoch 9/10\n",
            "609/610 [============================>.] - ETA: 0s - loss: 0.2349 - accuracy: 0.9196"
          ]
        },
        {
          "name": "stderr",
          "output_type": "stream",
          "text": [
            "WARNING:absl:Found untraced functions such as _jit_compiled_convolution_op, _jit_compiled_convolution_op, _jit_compiled_convolution_op while saving (showing 3 of 3). These functions will not be directly callable after loading.\n"
          ]
        },
        {
          "name": "stdout",
          "output_type": "stream",
          "text": [
            "\b\b\b\b\b\b\b\b\b\b\b\b\b\b\b\b\b\b\b\b\b\b\b\b\b\b\b\b\b\b\b\b\b\b\b\b\b\b\b\b\b\b\b\b\b\b\b\b\b\b\b\b\b\b\b\b\b\b\b\b\b\b\b\b\b\b\b\b\b\b\b\b\b\b\b\b\b\b\b\b\b\b\b\b\r610/610 [==============================] - 69s 113ms/step - loss: 0.2350 - accuracy: 0.9196 - val_loss: 0.0109 - val_accuracy: 0.9985\n",
            "Epoch 10/10\n",
            "609/610 [============================>.] - ETA: 0s - loss: 0.2154 - accuracy: 0.9271"
          ]
        }
      ],
      "source": [
        "# Models\n",
        "# 'models/experiment-dropout-0'\n",
        "# 'models/experiment-dropout-1'\n",
        "# 'models/experiment-dropout-2'\n",
        "\n",
        "# History objects\n",
        "# 'models/experiment-dropout-0-history'\n",
        "# 'models/experiment-dropout-1-history'\n",
        "# 'models/experiment-dropout-2-history'\n",
        "import pickle\n",
        "early_stopping_cb = keras.callbacks.EarlyStopping(patience=5)\n",
        "\n",
        "dropout_rates = [0.3, 0.4, 0.5]\n",
        "\n",
        "for index, i in enumerate(dropout_rates):\n",
        "    model = keras.models.Sequential()\n",
        "    model.add(keras.layers.Conv2D(24, (5, 5), padding='same', activation='relu'))\n",
        "    model.add(keras.layers.MaxPooling2D(pool_size=(2, 2)))\n",
        "    model.add(keras.layers.Dropout(i))\n",
        "    model.add(keras.layers.Conv2D(48, (5, 5), padding='same', activation='relu'))\n",
        "    model.add(keras.layers.MaxPooling2D(pool_size=(2, 2)))\n",
        "    model.add(keras.layers.Dropout(i))\n",
        "    model.add(keras.layers.Conv2D(96, (5, 5), padding='same', activation='relu'))\n",
        "    model.add(keras.layers.MaxPooling2D(pool_size=(2, 2)))\n",
        "    model.add(keras.layers.Dropout(i))\n",
        "    model.add(keras.layers.Flatten())\n",
        "    model.add(keras.layers.Dense(128, activation='relu'))\n",
        "    model.add(keras.layers.Dropout(i))\n",
        "    model.add(keras.layers.Dense(24, activation='softmax'))\n",
        "    model.compile(loss='categorical_crossentropy', optimizer='adam', metrics=['accuracy'])\n",
        "    save_best_cb = keras.callbacks.ModelCheckpoint(f'models/experiment-dropout-{index}', save_best_only=True)\n",
        "    history = model.fit(X_train, y_train, epochs=10, validation_data=(X_valid, y_valid), callbacks=[save_best_cb, early_stopping_cb])\n",
        "    with open(f'models/experiment-dropout-{index}-history', 'wb') as history_file:\n",
        "        pickle.dump(history.history, history_file)"
      ]
    },
    {
      "cell_type": "code",
      "execution_count": 56,
      "metadata": {
        "colab": {
          "base_uri": "https://localhost:8080/"
        },
        "id": "GMja5btEz6m9",
        "outputId": "9ac396c3-3422-48cb-84b1-4b80d5250c43"
      },
      "outputs": [
        {
          "name": "stdout",
          "output_type": "stream",
          "text": [
            "249/249 [==============================] - 7s 26ms/step - loss: 1.6194e-04 - accuracy: 1.0000\n",
            "249/249 [==============================] - 13s 50ms/step - loss: 5.3527e-04 - accuracy: 1.0000\n",
            "249/249 [==============================] - 13s 51ms/step - loss: 0.0054 - accuracy: 1.0000\n"
          ]
        }
      ],
      "source": [
        "for index in range(3):\n",
        "    model = keras.models.load_model(f'models/experiment-dropout-{index}')\n",
        "    model.evaluate(X_valid, y_valid)"
      ]
    },
    {
      "cell_type": "code",
      "execution_count": 57,
      "metadata": {
        "id": "ziqwAzFs338N"
      },
      "outputs": [],
      "source": [
        "h_0 = np.load('models/experiment-dropout-0-history', allow_pickle=True)\n",
        "h_1 = np.load('models/experiment-dropout-1-history', allow_pickle=True)\n",
        "h_2 = np.load('models/experiment-dropout-2-history', allow_pickle=True)"
      ]
    },
    {
      "cell_type": "code",
      "execution_count": 60,
      "metadata": {
        "id": "uyK5cJHi4HOk"
      },
      "outputs": [],
      "source": [
        "def get_train_val_plots(h, yticks=None, figsize=(10, 5)):\n",
        "    # h: Any dictionary like the history.history\n",
        "    \n",
        "    fig, ax = plt.subplots(figsize=figsize)\n",
        "    n_epochs = len(h['loss'])\n",
        "    x_loss = np.arange(n_epochs+1)-0.5\n",
        "    \n",
        "    ax.plot(x_loss[x_loss >= 0], h['loss'], color='b', label='train_loss')\n",
        "    ax.plot(range(1, n_epochs+1), h['val_loss'], color='r', label='val_loss')\n",
        "    ax.plot(range(1, n_epochs+1), h['accuracy'], color='b', label='train_accuracy', linestyle='--')\n",
        "    ax.plot(range(1, n_epochs+1), h['val_accuracy'], color='r', label='val_accuracy', linestyle='--')\n",
        "    ax.set_xlim(0, n_epochs)\n",
        "    ax.set_xticks(range(1, n_epochs+1))\n",
        "    if yticks is not None:\n",
        "        ax.set_yticks(yticks)\n",
        "    ax.legend()"
      ]
    },
    {
      "cell_type": "code",
      "execution_count": 61,
      "metadata": {
        "colab": {
          "base_uri": "https://localhost:8080/",
          "height": 321
        },
        "id": "_cxToIoj4hHe",
        "outputId": "884e1527-3c2b-43c0-8ea3-03195bc8f300"
      },
      "outputs": [
        {
          "data": {
            "image/png": "[encoded data removed]",
            "text/plain": [
              "<Figure size 720x360 with 1 Axes>"
            ]
          },
          "metadata": {
            "needs_background": "light"
          },
          "output_type": "display_data"
        }
      ],
      "source": [
        "get_train_val_plots(h_0)\n"
      ]
    },
    {
      "cell_type": "code",
      "execution_count": 62,
      "metadata": {
        "colab": {
          "base_uri": "https://localhost:8080/",
          "height": 320
        },
        "id": "tjn5HD1z5QBV",
        "outputId": "934dc05f-c65f-46fd-c8fd-d4b9be073f08"
      },
      "outputs": [
        {
          "data": {
            "image/png": "[encoded data removed]",
            "text/plain": [
              "<Figure size 720x360 with 1 Axes>"
            ]
          },
          "metadata": {
            "needs_background": "light"
          },
          "output_type": "display_data"
        }
      ],
      "source": [
        "get_train_val_plots(h_1)"
      ]
    },
    {
      "cell_type": "code",
      "execution_count": 63,
      "metadata": {
        "colab": {
          "base_uri": "https://localhost:8080/",
          "height": 320
        },
        "id": "9-lq3OsH5RcB",
        "outputId": "0bf60848-c036-4f6e-cb57-dda42d759993"
      },
      "outputs": [
        {
          "data": {
            "image/png": "[encoded data removed]",
            "text/plain": [
              "<Figure size 720x360 with 1 Axes>"
            ]
          },
          "metadata": {
            "needs_background": "light"
          },
          "output_type": "display_data"
        }
      ],
      "source": [
        "get_train_val_plots(h_2)"
      ]
    },
    {
      "cell_type": "code",
      "execution_count": 64,
      "metadata": {
        "id": "7eciGV3u5UPb"
      },
      "outputs": [],
      "source": [
        "best_model = keras.models.load_model('models/experiment-dropout-0/')"
      ]
    },
    {
      "cell_type": "code",
      "execution_count": 73,
      "metadata": {
        "id": "-uklSRmj5gKO"
      },
      "outputs": [],
      "source": [
        "X_test, y_test = df_test.drop('label', axis=1), df_test['label']"
      ]
    },
    {
      "cell_type": "code",
      "execution_count": 74,
      "metadata": {
        "id": "2QYemZJv5lLh"
      },
      "outputs": [],
      "source": [
        "X_test /= 255.0"
      ]
    },
    {
      "cell_type": "code",
      "execution_count": 77,
      "metadata": {
        "id": "TKcPZf-n7Vg1"
      },
      "outputs": [],
      "source": [
        "def test_model(model, X_test, y_test, label_binarizer):\n",
        "    X_test_reshape = tf.reshape(X_test, [-1, 28, 28, 1])\n",
        "    y_test_labels = label_binarizer.transform(y_test)\n",
        "    results = model.evaluate(X_test_reshape, y_test_labels)\n",
        "    print(f'Loss: {results[0]:.3f} Accuracy: {results[1]:.3f}')"
      ]
    },
    {
      "cell_type": "code",
      "execution_count": 78,
      "metadata": {
        "colab": {
          "base_uri": "https://localhost:8080/"
        },
        "id": "BO3fdu8f7YIR",
        "outputId": "a1860195-2354-4fb0-e531-d2e26897405d"
      },
      "outputs": [
        {
          "name": "stdout",
          "output_type": "stream",
          "text": [
            "225/225 [==============================] - 6s 26ms/step - loss: 0.0918 - accuracy: 0.9845\n",
            "Loss: 0.092 Accuracy: 0.985\n"
          ]
        }
      ],
      "source": [
        "test_model(best_model, X_test, y_test, label_binarizer)"
      ]
    },
    {
      "cell_type": "code",
      "execution_count": 80,
      "metadata": {
        "colab": {
          "base_uri": "https://localhost:8080/",
          "height": 1000
        },
        "id": "_TzVI2ko9aQf",
        "outputId": "f895481e-7972-4092-9424-a1f74c23036d"
      },
      "outputs": [
        {
          "data": {
            "image/png": "[encoded data removed]",
            "text/plain": [
              "<IPython.core.display.Image object>"
            ]
          },
          "execution_count": 80,
          "metadata": {},
          "output_type": "execute_result"
        }
      ],
      "source": [
        "from keras.utils import plot_model\n",
        "plot_model(best_model, to_file='model.png', show_shapes=True, show_layer_names=True)"
      ]
    },
    {
      "cell_type": "markdown",
      "metadata": {},
      "source": [
        "## Conclusion: \n",
        "By addition a dropout layer after each hidden layer, we are regularizing the network. As a result, we expect to see a model that is less overfitted, meaning that the validation accuracy increases.<br>\n",
        "As shown in the figures above, with the addition of the validation accuracy and train accuracy stay very close (since no overfitting occurs), however, without dropout layers, the training accuracy could reach 99% while the validation accuracy remained around 98%."
      ]
    },
    {
      "cell_type": "markdown",
      "metadata": {},
      "source": [
        "## Conclusion: \n",
        "\n",
        "Adam is well known to perform worse than SGD for image classification tasks.\n",
        "But not in this senario!\n",
        "SGD converges much slower than ADAM. "
      ]
    },
    {
      "cell_type": "code",
      "execution_count": null,
      "metadata": {},
      "outputs": [],
      "source": [
        "data = []\n",
        "labels = []\n",
        "columns = []\n",
        "for i in range(1,785):\n",
        "  columns.append('pixel'+str(i))\n",
        "print(columns)"
      ]
    },
    {
      "cell_type": "code",
      "execution_count": null,
      "metadata": {},
      "outputs": [],
      "source": [
        "import cv2\n",
        "image = cv2.imread(filename,0)\n",
        "image = cv2.resize(image, (28, 28),interpolation = cv2.INTER_LINEAR)\n",
        "cv2_imshow(image)\n",
        "\n",
        "data.append(list(np.array(image,dtype=np.float64).reshape(784)))\n",
        "labels.append(IMAGE_CLASS)  ##image_lcass"
      ]
    },
    {
      "cell_type": "code",
      "execution_count": null,
      "metadata": {},
      "outputs": [],
      "source": [
        "data = np.array(data)\n",
        "dataf = pd.DataFrame(data/255, columns=columns)\n",
        "data = Data(dataf.to_numpy(), np.array())\n",
        "dataloader = DataLoader(dataset=data, batch_size=batch_size, shuffle=False)"
      ]
    },
    {
      "cell_type": "code",
      "execution_count": null,
      "metadata": {},
      "outputs": [],
      "source": [
        "test_model(best_model, data, labels, label_binarizer)"
      ]
    }
  ],
  "metadata": {
    "colab": {
      "provenance": []
    },
    "kernelspec": {
      "display_name": "Python 3",
      "name": "python3"
    },
    "language_info": {
      "name": "python"
    }
  },
  "nbformat": 4,
  "nbformat_minor": 0
}
