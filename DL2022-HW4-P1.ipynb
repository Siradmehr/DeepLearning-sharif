{
  "nbformat": 4,
  "nbformat_minor": 0,
  "metadata": {
    "colab": {
      "provenance": []
    },
    "kernelspec": {
      "name": "python3",
      "display_name": "Python 3"
    },
    "language_info": {
      "name": "python"
    },
    "accelerator": "GPU",
    "gpuClass": "standard"
  },
  "cells": [
    {
      "cell_type": "code",
      "execution_count": null,
      "metadata": {
        "id": "T5sLMgj-oU8X"
      },
      "outputs": [],
      "source": [
        "!pip install torchtext==0.5.0\n",
        "!pip install transformers"
      ]
    },
    {
      "cell_type": "code",
      "source": [
        "!pip install https://github.com/sobhe/hazm/archive/master.zip --upgrade"
      ],
      "metadata": {
        "id": "fBAGj56aomhK"
      },
      "execution_count": null,
      "outputs": []
    },
    {
      "cell_type": "code",
      "source": [
        "import numpy as np\n",
        "import pandas as pd\n",
        "from matplotlib import pyplot as plt\n",
        "from tqdm import tqdm \n",
        "import torch\n",
        "import torchtext\n",
        "import torch.nn as nn\n",
        "from torchtext.data.utils import get_tokenizer\n",
        "from torchtext.vocab import Vocab\n",
        "from torch.nn.utils.rnn import pad_sequence\n",
        "from torch.utils.data import DataLoader, Dataset, TensorDataset\n",
        "from collections import Counter"
      ],
      "metadata": {
        "id": "zMbN8QpapAUF"
      },
      "execution_count": 3,
      "outputs": []
    },
    {
      "cell_type": "code",
      "source": [
        "from hazm import *\n",
        "normalizer = Normalizer()"
      ],
      "metadata": {
        "id": "RRUjtMhapH6O"
      },
      "execution_count": 4,
      "outputs": []
    },
    {
      "cell_type": "code",
      "source": [
        "from google.colab import drive\n",
        "drive.mount('/content/drive')"
      ],
      "metadata": {
        "colab": {
          "base_uri": "https://localhost:8080/"
        },
        "id": "vdokCS65pLKc",
        "outputId": "389c1af3-c380-4695-e613-2ba7a18b8b8f"
      },
      "execution_count": 5,
      "outputs": [
        {
          "output_type": "stream",
          "name": "stdout",
          "text": [
            "Mounted at /content/drive\n"
          ]
        }
      ]
    },
    {
      "cell_type": "code",
      "source": [
        "cd drive/MyDrive/DeepLearning/data"
      ],
      "metadata": {
        "colab": {
          "base_uri": "https://localhost:8080/"
        },
        "id": "OcgZKNxvqAmc",
        "outputId": "ef047a31-025b-4383-ccac-f3a88bffb574"
      },
      "execution_count": 6,
      "outputs": [
        {
          "output_type": "stream",
          "name": "stdout",
          "text": [
            "/content/drive/MyDrive/DeepLearning/data\n"
          ]
        }
      ]
    },
    {
      "cell_type": "code",
      "source": [
        "data = open('ferdousi.txt').read()\n",
        "poem = data.lower().split(\"\\n\")[2:]"
      ],
      "metadata": {
        "id": "c16Smvyeswxo"
      },
      "execution_count": 7,
      "outputs": []
    },
    {
      "cell_type": "code",
      "source": [
        "def Create_Vocab(corpus):\n",
        "  counter = Counter()\n",
        "  for text in tqdm(corpus):\n",
        "    words = word_tokenize(normalizer.normalize(text))\n",
        "    counter.update(words)\n",
        "  return Vocab(counter)\n",
        "Ferdousi_Vocab = Create_Vocab(poem)"
      ],
      "metadata": {
        "colab": {
          "base_uri": "https://localhost:8080/"
        },
        "id": "OUSEvlCZs3Mw",
        "outputId": "906bea30-d814-45ea-f6ff-16a5e78cc2ac"
      },
      "execution_count": 8,
      "outputs": [
        {
          "output_type": "stream",
          "name": "stderr",
          "text": [
            "100%|██████████| 99217/99217 [00:11<00:00, 8361.61it/s]\n"
          ]
        }
      ]
    },
    {
      "cell_type": "code",
      "source": [
        "def process(corpus, vocab):\n",
        "    data = list()\n",
        "    for text in tqdm(corpus):\n",
        "        token_list = [vocab[token] for token in word_tokenize(normalizer.normalize(text))]\n",
        "        for i in range(1, len(token_list)):\n",
        "            n_gram_seq = torch.tensor(token_list[:i+1], dtype=torch.long)\n",
        "            data.append(n_gram_seq)\n",
        "    return data\n",
        "\n",
        "train_data = process(poem, Ferdousi_Vocab)\n",
        "\n",
        "X = [i[:-1] for i in train_data]\n",
        "X = pad_sequence(X, batch_first=True, padding_value=Ferdousi_Vocab.stoi['<pad>'])\n",
        "y = [i[-1] for i in train_data]\n",
        "y = torch.from_numpy(np.array(y))\n",
        "train_data = TensorDataset(X, y)\n",
        "train_dataloader = DataLoader(train_data, batch_size=64, shuffle=True)"
      ],
      "metadata": {
        "colab": {
          "base_uri": "https://localhost:8080/"
        },
        "id": "t59oPKuk2CRV",
        "outputId": "656ddfdd-32b8-459f-bd6c-05c07308cca2"
      },
      "execution_count": 9,
      "outputs": [
        {
          "output_type": "stream",
          "name": "stderr",
          "text": [
            "100%|██████████| 99217/99217 [00:13<00:00, 7112.98it/s]\n"
          ]
        }
      ]
    },
    {
      "cell_type": "code",
      "source": [
        "device = \"cuda\" if torch.cuda.is_available() else \"cpu\""
      ],
      "metadata": {
        "id": "hr6y2ZG91ijg"
      },
      "execution_count": 10,
      "outputs": []
    },
    {
      "cell_type": "code",
      "source": [
        "class LSTM(nn.Module):\n",
        "    def __init__(self, vocab_size,dropout=0.10):\n",
        "        super().__init__()\n",
        "        self.hidden_size = 128\n",
        "        self.num_layers = 2\n",
        "        self.vocab_size = vocab_size\n",
        "        \n",
        "        self.embedding = nn.Embedding(vocab_size, 128)\n",
        "        self.lstm = nn.LSTM(input_size=128, hidden_size=128, num_layers=2, dropout=dropout, batch_first=True)\n",
        "        self.fc1 = nn.Linear(128, vocab_size)\n",
        "        \n",
        "    def forward(self, X, h=None, c=None):\n",
        "        if h is None:\n",
        "            h, c = self.init_state(X.size(0))\n",
        "        output = self.embedding(X)\n",
        "        output, (h, c) = self.lstm(output, (h, c))\n",
        "        output = output.contiguous().view(-1, self.hidden_size)\n",
        "        output = self.fc1(output)\n",
        "        output = output.view(-1, X.size(1), self.vocab_size)\n",
        "        output = output[:, -1]\n",
        "        return output, h, c\n",
        "    def init_state(self, batch_size):\n",
        "        num_l = self.num_layers\n",
        "        hidden = torch.zeros(num_l, batch_size, self.hidden_size).to(device)\n",
        "        cell = torch.zeros(num_l, batch_size, self.hidden_size).to(device)\n",
        "        return hidden, cell"
      ],
      "metadata": {
        "id": "mS1Hf2VQtUQF"
      },
      "execution_count": 37,
      "outputs": []
    },
    {
      "cell_type": "code",
      "source": [
        "def ACC(y_pred, y):\n",
        "    top_pred = y_pred.argmax(1, keepdim=True).reshape(y.size())\n",
        "    correct = top_pred.eq(y.view_as(top_pred)).sum()\n",
        "    acc = correct.float() / y.shape[0]\n",
        "    return acc,top_pred"
      ],
      "metadata": {
        "id": "0jP-NSzj2fgO"
      },
      "execution_count": 11,
      "outputs": []
    },
    {
      "cell_type": "code",
      "source": [
        "LSTM_model = LSTM(len(Ferdousi_Vocab)).to(device)\n",
        "optimizer = torch.optim.Adam(LSTM_model.parameters(), lr=0.005)\n",
        "criterion = nn.CrossEntropyLoss()"
      ],
      "metadata": {
        "id": "LP2n9wDt21de"
      },
      "execution_count": 38,
      "outputs": []
    },
    {
      "cell_type": "code",
      "source": [
        "epochs = 30\n",
        "lose = []\n",
        "acc_array = []\n",
        "LSTM_model.train()\n",
        "for epoch in range(epochs):\n",
        "    epoch_loss = 0\n",
        "    accuracy = 0\n",
        "    with tqdm(enumerate(train_dataloader),total=len(train_dataloader)) as teacher:\n",
        "      for i,(X, y) in teacher:\n",
        "          X = X.to(device)\n",
        "          y = y.to(device)\n",
        "          optimizer.zero_grad()\n",
        "          output, h, c = LSTM_model(X)\n",
        "          loss = criterion(output, y)\n",
        "          acc , _ = ACC(output, y)\n",
        "          accuracy += acc\n",
        "          epoch_loss += loss\n",
        "          loss.backward()\n",
        "          optimizer.step()\n",
        "          if(i%5 == 0):\n",
        "            teacher.set_description(f'EPOCH:{epoch+1} - Loss: {epoch_loss/(i+1):.2f}% - Accuracy: {accuracy*100/(i+1):.2f}%')\n",
        "      lose.append((epoch_loss/len(teacher)).cpu().item())\n",
        "      acc_array.append((accuracy*100/len(teacher)).cpu().item())\n",
        "      if (lose[-1]<=min(lose)):\n",
        "          torch.save(LSTM_model.state_dict(), 'FerdousiAI.pth')\n",
        "plt.plot(np.array(lose))\n",
        "plt.plot(np.array(acc_array))\n",
        "plt.show()"
      ],
      "metadata": {
        "colab": {
          "base_uri": "https://localhost:8080/",
          "height": 775
        },
        "id": "_Pn51-2F3VGQ",
        "outputId": "dd049236-00e5-4f25-8282-87cac93dcf64"
      },
      "execution_count": 39,
      "outputs": [
        {
          "output_type": "stream",
          "name": "stderr",
          "text": [
            "EPOCH:1 - Loss: 6.95% - Accuracy: 6.48%: 100%|██████████| 7263/7263 [00:57<00:00, 126.28it/s]\n",
            "EPOCH:2 - Loss: 6.32% - Accuracy: 9.83%: 100%|██████████| 7263/7263 [00:57<00:00, 125.77it/s]\n",
            "EPOCH:3 - Loss: 5.99% - Accuracy: 11.23%: 100%|██████████| 7263/7263 [00:57<00:00, 126.41it/s]\n",
            "EPOCH:4 - Loss: 5.76% - Accuracy: 12.13%: 100%|██████████| 7263/7263 [00:57<00:00, 126.67it/s]\n",
            "EPOCH:5 - Loss: 5.59% - Accuracy: 12.80%: 100%|██████████| 7263/7263 [00:57<00:00, 125.97it/s]\n",
            "EPOCH:6 - Loss: 5.46% - Accuracy: 13.40%: 100%|██████████| 7263/7263 [00:57<00:00, 126.45it/s]\n",
            "EPOCH:7 - Loss: 5.34% - Accuracy: 13.98%: 100%|██████████| 7263/7263 [00:57<00:00, 126.60it/s]\n",
            "EPOCH:8 - Loss: 5.26% - Accuracy: 14.28%: 100%|██████████| 7263/7263 [00:57<00:00, 126.32it/s]\n",
            "EPOCH:9 - Loss: 5.18% - Accuracy: 14.63%: 100%|██████████| 7263/7263 [00:57<00:00, 126.03it/s]\n",
            "EPOCH:10 - Loss: 5.13% - Accuracy: 14.90%: 100%|██████████| 7263/7263 [00:57<00:00, 126.36it/s]\n",
            "EPOCH:11 - Loss: 5.08% - Accuracy: 15.17%: 100%|██████████| 7263/7263 [00:57<00:00, 126.42it/s]\n",
            "EPOCH:12 - Loss: 5.03% - Accuracy: 15.34%: 100%|██████████| 7263/7263 [00:57<00:00, 125.68it/s]\n",
            "EPOCH:13 - Loss: 4.99% - Accuracy: 15.54%: 100%|██████████| 7263/7263 [00:57<00:00, 126.49it/s]\n",
            "EPOCH:14 - Loss: 4.96% - Accuracy: 15.67%: 100%|██████████| 7263/7263 [00:57<00:00, 126.70it/s]\n",
            "EPOCH:15 - Loss: 4.93% - Accuracy: 15.73%: 100%|██████████| 7263/7263 [00:57<00:00, 126.64it/s]\n",
            "EPOCH:16 - Loss: 4.91% - Accuracy: 15.84%: 100%|██████████| 7263/7263 [00:57<00:00, 125.76it/s]\n",
            "EPOCH:17 - Loss: 4.89% - Accuracy: 15.93%: 100%|██████████| 7263/7263 [00:57<00:00, 126.48it/s]\n",
            "EPOCH:18 - Loss: 4.87% - Accuracy: 16.00%: 100%|██████████| 7263/7263 [00:57<00:00, 126.28it/s]\n",
            "EPOCH:19 - Loss: 4.85% - Accuracy: 16.14%: 100%|██████████| 7263/7263 [00:57<00:00, 126.25it/s]\n",
            "EPOCH:20 - Loss: 4.84% - Accuracy: 16.24%: 100%|██████████| 7263/7263 [00:57<00:00, 126.43it/s]\n",
            "EPOCH:21 - Loss: 4.82% - Accuracy: 16.23%: 100%|██████████| 7263/7263 [00:57<00:00, 126.44it/s]\n",
            "EPOCH:22 - Loss: 4.81% - Accuracy: 16.36%: 100%|██████████| 7263/7263 [00:57<00:00, 126.01it/s]\n",
            "EPOCH:23 - Loss: 4.80% - Accuracy: 16.33%: 100%|██████████| 7263/7263 [00:57<00:00, 126.25it/s]\n",
            "EPOCH:24 - Loss: 4.79% - Accuracy: 16.40%: 100%|██████████| 7263/7263 [00:57<00:00, 126.36it/s]\n",
            "EPOCH:25 - Loss: 4.79% - Accuracy: 16.39%: 100%|██████████| 7263/7263 [00:57<00:00, 125.91it/s]\n",
            "EPOCH:26 - Loss: 4.78% - Accuracy: 16.42%: 100%|██████████| 7263/7263 [00:57<00:00, 125.73it/s]\n",
            "EPOCH:27 - Loss: 4.78% - Accuracy: 16.38%: 100%|██████████| 7263/7263 [00:57<00:00, 126.62it/s]\n",
            "EPOCH:28 - Loss: 4.78% - Accuracy: 16.44%: 100%|██████████| 7263/7263 [00:57<00:00, 126.79it/s]\n",
            "EPOCH:29 - Loss: 4.77% - Accuracy: 16.48%: 100%|██████████| 7263/7263 [00:57<00:00, 125.67it/s]\n",
            "EPOCH:30 - Loss: 4.76% - Accuracy: 16.52%: 100%|██████████| 7263/7263 [01:02<00:00, 115.72it/s]\n"
          ]
        },
        {
          "output_type": "display_data",
          "data": {
            "text/plain": [
              "<Figure size 432x288 with 1 Axes>"
            ],
            "image/png": "[encoded data removed]"
          },
          "metadata": {
            "needs_background": "light"
          }
        }
      ]
    },
    {
      "cell_type": "code",
      "source": [
        "class GRU(nn.Module):\n",
        "    def __init__(self, vocab_size, dropout=0.1):\n",
        "        super().__init__()\n",
        "        self.hidden_size = 128\n",
        "        self.num_layers = 2\n",
        "        self.vocab_size = vocab_size\n",
        "        \n",
        "        self.embedding = nn.Embedding(vocab_size, 128)\n",
        "        self.gru = nn.GRU(input_size=128, hidden_size=128, num_layers=2, dropout=0.1, batch_first=True)\n",
        "        self.fc1 = nn.Linear(128, vocab_size)\n",
        "        \n",
        "    def forward(self, X, h=None, c=None):\n",
        "        if h is None:\n",
        "            h, c = self.init_state(X.size(0))\n",
        "        output = self.embedding(X)\n",
        "        output, h = self.gru(output, h)\n",
        "        output = output.contiguous().view(-1, self.hidden_size)\n",
        "        output = self.fc1(output)\n",
        "        output = output.view(-1, X.size(1), self.vocab_size)\n",
        "        output = output[:, -1]\n",
        "        return output, h, c\n",
        "    \n",
        "    def init_state(self, batch_size):\n",
        "        num_l = self.num_layers\n",
        "        hidden = torch.zeros(num_l, batch_size, self.hidden_size).to(device)\n",
        "        cell = torch.zeros(num_l, batch_size, self.hidden_size).to(device)\n",
        "        return hidden, cell"
      ],
      "metadata": {
        "id": "OjtEEdDX5HFc"
      },
      "execution_count": 15,
      "outputs": []
    },
    {
      "cell_type": "code",
      "source": [
        "GRU_model = GRU(len(Ferdousi_Vocab)).to(device)\n",
        "optimizer = torch.optim.Adam(GRU_model.parameters(), lr=0.005)\n",
        "criterion = nn.CrossEntropyLoss()"
      ],
      "metadata": {
        "id": "TnE8LOT6HNLH"
      },
      "execution_count": 16,
      "outputs": []
    },
    {
      "cell_type": "code",
      "source": [
        "epochs = 30\n",
        "lose2 = []\n",
        "acc_array2 = []\n",
        "GRU_model.train()\n",
        "for epoch in range(epochs):\n",
        "    epoch_loss = 0\n",
        "    accuracy = 0\n",
        "    with tqdm(enumerate(train_dataloader),total=len(train_dataloader)) as teacher:\n",
        "      for i,(X, y) in teacher:\n",
        "          X = X.to(device)\n",
        "          y = y.to(device)\n",
        "          optimizer.zero_grad()\n",
        "          output, h, c = GRU_model(X)\n",
        "          loss = criterion(output, y)\n",
        "          acc , _ = ACC(output, y)\n",
        "          accuracy += acc\n",
        "          epoch_loss += loss\n",
        "          loss.backward()\n",
        "          optimizer.step()\n",
        "          teacher.set_description(f'EPOCH:{epoch+1} - Loss: {epoch_loss/(i+1):.2f}% - Accuracy: {accuracy*100/(i+1):.2f}%')\n",
        "      lose2.append((epoch_loss/len(teacher)).cpu().item())\n",
        "      acc_array2.append((accuracy*100/len(teacher)).cpu().item())\n",
        "      if (lose2[-1]<=min(lose2)):\n",
        "          torch.save(GRU_model.state_dict(), 'FerdousiAI2.pth')"
      ],
      "metadata": {
        "colab": {
          "base_uri": "https://localhost:8080/"
        },
        "id": "qYCxhTXaTJfb",
        "outputId": "c542b08d-e55d-48d2-9caa-d1cb611a38b1"
      },
      "execution_count": 17,
      "outputs": [
        {
          "output_type": "stream",
          "name": "stderr",
          "text": [
            "EPOCH:1 - Loss: 6.57% - Accuracy: 9.74%: 100%|██████████| 7263/7263 [01:16<00:00, 95.48it/s]\n",
            "EPOCH:2 - Loss: 5.90% - Accuracy: 12.18%: 100%|██████████| 7263/7263 [01:15<00:00, 96.81it/s]\n",
            "EPOCH:3 - Loss: 5.60% - Accuracy: 12.99%: 100%|██████████| 7263/7263 [01:13<00:00, 98.35it/s]\n",
            "EPOCH:4 - Loss: 5.45% - Accuracy: 13.43%: 100%|██████████| 7263/7263 [01:14<00:00, 97.70it/s] \n",
            "EPOCH:5 - Loss: 5.35% - Accuracy: 13.71%: 100%|██████████| 7263/7263 [01:13<00:00, 98.64it/s]\n",
            "EPOCH:6 - Loss: 5.29% - Accuracy: 13.72%: 100%|██████████| 7263/7263 [01:13<00:00, 98.34it/s] \n",
            "EPOCH:7 - Loss: 5.25% - Accuracy: 13.82%: 100%|██████████| 7263/7263 [01:14<00:00, 97.07it/s] \n",
            "EPOCH:8 - Loss: 5.22% - Accuracy: 13.89%: 100%|██████████| 7263/7263 [01:13<00:00, 98.28it/s]\n",
            "EPOCH:9 - Loss: 5.21% - Accuracy: 13.90%: 100%|██████████| 7263/7263 [01:13<00:00, 98.95it/s] \n",
            "EPOCH:10 - Loss: 5.21% - Accuracy: 13.88%: 100%|██████████| 7263/7263 [01:14<00:00, 98.10it/s] \n",
            "EPOCH:11 - Loss: 5.22% - Accuracy: 13.77%: 100%|██████████| 7263/7263 [01:13<00:00, 99.05it/s]\n",
            "EPOCH:12 - Loss: 5.20% - Accuracy: 13.87%: 100%|██████████| 7263/7263 [01:13<00:00, 99.23it/s] \n",
            "EPOCH:13 - Loss: 5.21% - Accuracy: 13.79%: 100%|██████████| 7263/7263 [01:13<00:00, 98.29it/s]\n",
            "EPOCH:14 - Loss: 5.19% - Accuracy: 13.85%: 100%|██████████| 7263/7263 [01:13<00:00, 98.69it/s]\n",
            "EPOCH:15 - Loss: 5.21% - Accuracy: 13.71%: 100%|██████████| 7263/7263 [01:13<00:00, 98.47it/s] \n",
            "EPOCH:16 - Loss: 5.21% - Accuracy: 13.72%: 100%|██████████| 7263/7263 [01:14<00:00, 97.65it/s]\n",
            "EPOCH:17 - Loss: 5.22% - Accuracy: 13.62%: 100%|██████████| 7263/7263 [01:13<00:00, 98.17it/s] \n",
            "EPOCH:18 - Loss: 5.22% - Accuracy: 13.63%: 100%|██████████| 7263/7263 [01:14<00:00, 97.52it/s] \n",
            "EPOCH:19 - Loss: 5.21% - Accuracy: 13.75%: 100%|██████████| 7263/7263 [01:13<00:00, 99.10it/s]\n",
            "EPOCH:20 - Loss: 5.20% - Accuracy: 13.79%: 100%|██████████| 7263/7263 [01:13<00:00, 98.85it/s] \n",
            "EPOCH:21 - Loss: 5.19% - Accuracy: 13.76%: 100%|██████████| 7263/7263 [01:14<00:00, 97.80it/s]\n",
            "EPOCH:22 - Loss: 5.18% - Accuracy: 13.81%: 100%|██████████| 7263/7263 [01:13<00:00, 99.13it/s]\n",
            "EPOCH:23 - Loss: 5.18% - Accuracy: 13.87%: 100%|██████████| 7263/7263 [01:13<00:00, 98.75it/s]\n",
            "EPOCH:24 - Loss: 5.19% - Accuracy: 13.83%: 100%|██████████| 7263/7263 [01:13<00:00, 98.46it/s]\n",
            "EPOCH:25 - Loss: 5.19% - Accuracy: 13.74%: 100%|██████████| 7263/7263 [01:14<00:00, 97.10it/s]\n",
            "EPOCH:26 - Loss: 5.18% - Accuracy: 13.86%: 100%|██████████| 7263/7263 [01:14<00:00, 97.66it/s]\n",
            "EPOCH:27 - Loss: 5.18% - Accuracy: 13.74%: 100%|██████████| 7263/7263 [01:13<00:00, 98.16it/s] \n",
            "EPOCH:28 - Loss: 5.19% - Accuracy: 13.78%: 100%|██████████| 7263/7263 [01:14<00:00, 97.42it/s]\n",
            "EPOCH:29 - Loss: 5.19% - Accuracy: 13.81%: 100%|██████████| 7263/7263 [01:15<00:00, 96.01it/s]\n",
            "EPOCH:30 - Loss: 5.19% - Accuracy: 13.79%: 100%|██████████| 7263/7263 [01:14<00:00, 97.63it/s] \n"
          ]
        }
      ]
    },
    {
      "cell_type": "code",
      "source": [
        "plt.plot(np.array(lose2))\n",
        "plt.plot(np.array(acc_array2))\n",
        "plt.show()"
      ],
      "metadata": {
        "colab": {
          "base_uri": "https://localhost:8080/",
          "height": 265
        },
        "id": "P6ym_HQIU9wm",
        "outputId": "b11eff25-17bb-465c-a012-bdce2a9e3010"
      },
      "execution_count": 18,
      "outputs": [
        {
          "output_type": "display_data",
          "data": {
            "text/plain": [
              "<Figure size 432x288 with 1 Axes>"
            ],
            "image/png": "[encoded data removed]"
          },
          "metadata": {
            "needs_background": "light"
          }
        }
      ]
    },
    {
      "cell_type": "code",
      "source": [
        "text = str(input(\"Enter your poem:\"))\n",
        "lenght_sent = len(text.split(' '))\n",
        "next_words = lenght_sent*11\n",
        "print('GRU: \\n')\n",
        "seed_text = text\n",
        "i = 0\n",
        "while i != next_words:\n",
        "    token_list = np.ones(21, dtype=int)\n",
        "    text_token = np.array([Ferdousi_Vocab[token] for token in word_tokenize(normalizer.normalize(seed_text))])\n",
        "    if len(text_token)>21:\n",
        "      text_token = text_token[-21:]\n",
        "    token_list[:len(text_token)] = text_token\n",
        "    token_list = torch.from_numpy(token_list).unsqueeze(0).to(device)\n",
        "    out,h,c = GRU_model(token_list)\n",
        "    idx = torch.argmax(out)\n",
        "\n",
        "    if last_idx != idx and Ferdousi_Vocab.itos[idx]!='؟':\n",
        "      seed_text += \" \" + Ferdousi_Vocab.itos[idx]\n",
        "      last_idx = idx\n",
        "      i+=1\n",
        "\n",
        "for i,word in enumerate(seed_text.split()):\n",
        "    print(word,end=\" \"),\n",
        "    if i!=0 and (i+1)%lenght_sent==0:\n",
        "        print(\"\")\n"
      ],
      "metadata": {
        "colab": {
          "base_uri": "https://localhost:8080/"
        },
        "id": "cyX6EXWgke8A",
        "outputId": "ceab2dfa-719e-422c-f155-b00eaf099db3"
      },
      "execution_count": 36,
      "outputs": [
        {
          "output_type": "stream",
          "name": "stdout",
          "text": [
            "Enter your poem:زنی بود بر سان گردی سوار\n",
            "GRU: \n",
            "\n",
            "زنی بود بر سان گردی سوار \n",
            "سپهر دراز اوی خاست اوی دست \n",
            "اوی نیز اوی ایچ اوی راه \n",
            "اوی خوید اوست آستی گیر راست \n",
            "اوی راست اوی راست اوی راست \n",
            "اوی گیر راست اوی راست کوز \n",
            "رابهی گیر رابهی ازوی رابهی وار \n",
            "رابهی اند خوان گیر ازوی رابهی \n",
            "ازوی رابهی گیر رابهی گیر رابهی \n",
            "طوش رابهی پود گیر ازوی خوان \n",
            "رابهی جای هوش کور هوش نی \n",
            "خوید اوی دود رابهی گیر اوی \n"
          ]
        }
      ]
    },
    {
      "cell_type": "code",
      "source": [
        "text = str(input(\"Enter your poem:\"))\n",
        "lenght_sent = len(text.split(' '))\n",
        "next_words = lenght_sent*11\n",
        "print('LTSM: \\n')\n",
        "seed_text = text\n",
        "i = 0\n",
        "while i != next_words:\n",
        "    token_list = np.ones(21, dtype=int)\n",
        "    text_token = np.array([Ferdousi_Vocab[token] for token in word_tokenize(normalizer.normalize(seed_text))])\n",
        "    if len(text_token)>21:\n",
        "      text_token = text_token[-21:]\n",
        "    token_list[:len(text_token)] = text_token\n",
        "    token_list = torch.from_numpy(token_list).unsqueeze(0).to(device)\n",
        "    out,h,c = LSTM_model(token_list)\n",
        "    idx = torch.argmax(out)\n",
        "\n",
        "    if last_idx != idx and Ferdousi_Vocab.itos[idx]!='؟':\n",
        "      seed_text += \" \" + Ferdousi_Vocab.itos[idx]\n",
        "      last_idx = idx\n",
        "      i+=1\n",
        "\n",
        "for i,word in enumerate(seed_text.split()):\n",
        "    print(word,end=\" \"),\n",
        "    if i!=0 and (i+1)%lenght_sent==0:\n",
        "        print(\"\")\n"
      ],
      "metadata": {
        "colab": {
          "base_uri": "https://localhost:8080/"
        },
        "id": "9sHj8AZMvjlK",
        "outputId": "bd204ffd-47f8-490e-8d97-037f2f5b3614"
      },
      "execution_count": 41,
      "outputs": [
        {
          "output_type": "stream",
          "name": "stdout",
          "text": [
            "Enter your poem:زنی بود بر سان گردی سوار\n",
            "LTSM: \n",
            "\n",
            "زنی بود بر سان گردی سوار \n",
            "و ز کردار او را به \n",
            "هامون ببیم و ملخ و درد \n",
            "و به خشم بشکوفهٔ پرگهرش ماغ \n",
            "کمندی ستایندهٔ پوشیدنش ستایندهٔ بساسانیان بمیرم \n",
            "ستایندهٔ چودانی ازکه نشستنگهش بخط دیرینه \n",
            "بدرم ستایندهٔ کمندی ستایندهٔ کمندی ستایندهٔ \n",
            "بدرم ستایندهٔ بدرم ستایندهٔ کمندی ستایندهٔ \n",
            "بدرم ستایندهٔ برافگندی ستایندهٔ کمندی شیز \n",
            "ستایندهٔ بخط دیرینه گنهکار‌گر کمندی ستایندهٔ \n",
            "بدرم ستایندهٔ برافگندی ستایندهٔ کمندی ستایندهٔ \n",
            "بدرم ستایندهٔ بدرم ستایندهٔ کمندی ستایندهٔ \n"
          ]
        }
      ]
    },
    {
      "cell_type": "code",
      "source": [],
      "metadata": {
        "id": "AQYue9SFvxb8"
      },
      "execution_count": null,
      "outputs": []
    }
  ]
}