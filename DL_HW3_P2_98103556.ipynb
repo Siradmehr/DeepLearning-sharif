{
  "cells": [
    {
      "attachments": {},
      "cell_type": "markdown",
      "metadata": {},
      "source": [
        "# Deep Learning\n",
        "## HW3 - Problem 2 "
      ]
    },
    {
      "attachments": {},
      "cell_type": "markdown",
      "metadata": {},
      "source": [
        "1.   Full Name: Radmehr Karimian\n",
        "2.   Student Number: 98103556"
      ]
    },
    {
      "cell_type": "code",
      "execution_count": 2,
      "metadata": {
        "id": "LCQ0R0mGXz_q"
      },
      "outputs": [],
      "source": [
        "import torch\n",
        "import torchvision\n",
        "import torchvision.transforms as transforms\n",
        "from torchvision.models import resnet50, ResNet50_Weights\n",
        "from torchvision.models import resnet18, ResNet18_Weights\n",
        "import torch.nn as nn\n",
        "import torch.optim as optim\n",
        "import torch.nn.functional as F\n",
        "import numpy as np\n",
        "\n",
        "from PIL import Image\n",
        "import json\n",
        "import matplotlib.pyplot as plt\n",
        "import warnings\n",
        "from tqdm import tqdm\n",
        "from collections import defaultdict\n",
        "import copy\n",
        "from copy import deepcopy\n",
        "import pickle"
      ]
    },
    {
      "cell_type": "code",
      "execution_count": 3,
      "metadata": {
        "colab": {
          "base_uri": "https://localhost:8080/"
        },
        "id": "Ood14DGJYmve",
        "outputId": "78519feb-5da1-4d05-b5dd-7133263a0d79"
      },
      "outputs": [
        {
          "name": "stdout",
          "output_type": "stream",
          "text": [
            "Using cuda for inference\n"
          ]
        }
      ],
      "source": [
        "device = torch.device(\"cuda\") if torch.cuda.is_available() else torch.device(\"cpu\")\n",
        "print(f'Using {device} for inference')"
      ]
    },
    {
      "cell_type": "code",
      "execution_count": 4,
      "metadata": {
        "colab": {
          "base_uri": "https://localhost:8080/",
          "height": 100,
          "referenced_widgets": [
            "20145c92fb284d4184c7a96af9e166c2",
            "81aa88eced1a4a97a6bd2d3d4217920a",
            "f49d48bf586b4b0f8049350f067aaad2",
            "b9d3e16edbcf47ecb4f49b7ba31514ab",
            "eab1ad88b9574024a10339e7cd5cebe1",
            "1bc7721074084ee59a536439cf593f87",
            "9a02c0da396f41dc9cc2a6a0b8f0df8e",
            "7d7964491de94674a620fdca0c4e3eef",
            "3c02701b92f7468da71f654a9f99701b",
            "62230b152e6741a9ae914c2c6fd29253",
            "4509e315e9014be69306eeabb73de5e7"
          ]
        },
        "id": "IR_YS8vjZJLK",
        "outputId": "9c3e77e9-50ec-4fe1-bd7b-e5716d20a5dc"
      },
      "outputs": [
        {
          "name": "stdout",
          "output_type": "stream",
          "text": [
            "Downloading https://www.cs.toronto.edu/~kriz/cifar-10-python.tar.gz to ./data/cifar-10-python.tar.gz\n"
          ]
        },
        {
          "data": {
            "application/vnd.jupyter.widget-view+json": {
              "model_id": "20145c92fb284d4184c7a96af9e166c2",
              "version_major": 2,
              "version_minor": 0
            },
            "text/plain": [
              "  0%|          | 0/170498071 [00:00<?, ?it/s]"
            ]
          },
          "metadata": {},
          "output_type": "display_data"
        },
        {
          "name": "stdout",
          "output_type": "stream",
          "text": [
            "Extracting ./data/cifar-10-python.tar.gz to ./data\n",
            "Files already downloaded and verified\n"
          ]
        }
      ],
      "source": [
        "trainset = torchvision.datasets.CIFAR10(root='./data', train=True, download=True, transform=ResNet50_Weights.IMAGENET1K_V2.transforms())\n",
        "testset = torchvision.datasets.CIFAR10(root='./data', train=False, download=True, transform=ResNet50_Weights.IMAGENET1K_V2.transforms())\n",
        "dataloader = dict()\n",
        "dataloader['train'] = torch.utils.data.DataLoader(trainset, batch_size=64, shuffle=True, num_workers=2)\n",
        "dataloader['test'] = torch.utils.data.DataLoader(testset, batch_size=64, shuffle=False, num_workers=2)"
      ]
    },
    {
      "cell_type": "code",
      "execution_count": 51,
      "metadata": {
        "id": "8fLL3ppiZqLW"
      },
      "outputs": [],
      "source": [
        "resnet50_model = resnet50(weights=\"IMAGENET1K_V2\")\n",
        "paramresnet50 = resnet50_model.parameters()\n",
        "for param in paramresnet50: \n",
        "  param.requires_grad = False\n",
        "resnet50_model.fc = nn.Linear(in_features=2048, out_features=10, bias=True)\n",
        "\n",
        "cross_entropy_criterion = nn.CrossEntropyLoss()\n",
        "fc_params = resnet50_model.fc.parameters()\n",
        "resnet50_optimizer = optim.SGD(fc_params, lr=0.001, momentum=0.9)\n",
        "resnet50_losses = defaultdict(list)\n",
        "resnet50_accs = defaultdict(list)\n"
      ]
    },
    {
      "cell_type": "code",
      "execution_count": 5,
      "metadata": {
        "id": "OByoHQntaHNa"
      },
      "outputs": [],
      "source": [
        "def teapoch(net: nn.Module, criterion: nn.Module, optimizer: torch.optim.Optimizer, dataloader: torch.utils.data.DataLoader,   accs_train ,loss_train):\n",
        "\n",
        "    epoch_loss = 0\n",
        "    epoch_true = 0\n",
        "    epoch_all = 0\n",
        "    i = 0\n",
        "\n",
        "    net.train()\n",
        "    optimizer.zero_grad()\n",
        "\n",
        "    with tqdm(enumerate(dataloader), total=len(dataloader)) as pbar:\n",
        "        for i, (x, y) in pbar: \n",
        "            x = x.to(device)  \n",
        "            y = y.to(device)\n",
        "            p = net(x)\n",
        "            loss = criterion(p, y)\n",
        "            epoch_loss += float(loss)\n",
        "            predictions = p.argmax(-1)\n",
        "            epoch_all += len(predictions)\n",
        "            epoch_true += (predictions == y).sum()\n",
        "            pbar.set_description(f'epoch -> acc: {100*epoch_true / epoch_all:3.2f}%, loss: {epoch_loss / (i + 1):.6f}')\n",
        "            loss.backward()\n",
        "            optimizer.step()\n",
        "            optimizer.zero_grad()\n",
        "          \n",
        "        accs_train.append(float(epoch_true / epoch_all))\n",
        "        loss_train.append(float(epoch_loss / (i + 1)))\n",
        "    return accs_train,loss_train"
      ]
    },
    {
      "cell_type": "code",
      "execution_count": 6,
      "metadata": {
        "id": "BA1Bfb86b6H0"
      },
      "outputs": [],
      "source": [
        "def tspoch(net, criterion, dataloader, accs_test ,loss_test ):\n",
        "\n",
        "    epoch_loss = 0\n",
        "    true = 0\n",
        "    true_topfive = 0\n",
        "    all = 0\n",
        "    i = 0\n",
        "\n",
        "    net.eval()\n",
        "\n",
        "    with torch.no_grad(), tqdm(enumerate(dataloader), total=len(dataloader)) as pbar:\n",
        "        for i, (x, y) in pbar:\n",
        "            x = x.to(device)\n",
        "            y = y.to(device)\n",
        "            p = net(x)\n",
        "            loss = criterion(p, y)\n",
        "            epoch_loss += float(loss)\n",
        "\n",
        "            # predict \n",
        "            predictions = p.argmax(-1)\n",
        "            all += len(predictions)\n",
        "            true += (predictions == y).sum()\n",
        "\n",
        "            pbar.set_description(f'Loss: {epoch_loss / (i + 1):.3e} - Acc: {true * 100. / all:.2f}% ')\n",
        "\n",
        "        accs_test.append(float(true / all))\n",
        "        loss_test.append(float(epoch_loss / (i + 1)))\n",
        "    return accs_test,loss_test"
      ]
    },
    {
      "cell_type": "code",
      "execution_count": 14,
      "metadata": {
        "id": "Cm99j93XbXBu"
      },
      "outputs": [],
      "source": [
        "accs = []\n",
        "class lastLayer(nn.Module):\n",
        "    def __init__(self, pretrained):\n",
        "        super(lastLayer, self).__init__()\n",
        "        self.pretrained = pretrained\n",
        "        self.last = nn.Sequential(nn.Linear(2048, 10))\n",
        "      \n",
        "    def forward(self, x):\n",
        "        x = self.pretrained(x)\n",
        "        x = self.last(x)\n",
        "        return x\n",
        "weights = ResNet50_Weights.DEFAULT\n",
        "net = resnet50(weights=ResNet50_Weights.IMAGENET1K_V2)\n",
        "net.fc = nn.Sequential()\n",
        "for param in net.parameters():\n",
        "  param.requires_grad = False\n",
        "net = lastLayer(net).to(device)"
      ]
    },
    {
      "cell_type": "code",
      "execution_count": 18,
      "metadata": {
        "colab": {
          "base_uri": "https://localhost:8080/"
        },
        "id": "3zdPkL7_cvA0",
        "outputId": "a52e3f48-42a0-46fe-f24f-36345fa8a14b"
      },
      "outputs": [
        {
          "name": "stderr",
          "output_type": "stream",
          "text": [
            "epoch -> acc: 83.97%, loss: 0.459461: 100%|██████████| 782/782 [02:57<00:00,  4.40it/s]\n",
            "Loss: 6.765e-01 - Acc: 77.96% : 100%|██████████| 157/157 [00:34<00:00,  4.59it/s]\n",
            "epoch -> acc: 84.31%, loss: 0.445075: 100%|██████████| 782/782 [02:56<00:00,  4.44it/s]\n",
            "Loss: 6.270e-01 - Acc: 79.76% : 100%|██████████| 157/157 [00:33<00:00,  4.74it/s]\n",
            "epoch -> acc: 84.71%, loss: 0.439836: 100%|██████████| 782/782 [02:54<00:00,  4.48it/s]\n",
            "Loss: 6.609e-01 - Acc: 78.77% : 100%|██████████| 157/157 [00:33<00:00,  4.63it/s]\n",
            "epoch -> acc: 84.71%, loss: 0.439646: 100%|██████████| 782/782 [02:54<00:00,  4.48it/s]\n",
            "Loss: 6.145e-01 - Acc: 80.03% : 100%|██████████| 157/157 [00:33<00:00,  4.70it/s]\n",
            "epoch -> acc: 84.84%, loss: 0.434311: 100%|██████████| 782/782 [02:54<00:00,  4.48it/s]\n",
            "Loss: 6.387e-01 - Acc: 79.71% : 100%|██████████| 157/157 [00:33<00:00,  4.69it/s]\n",
            "epoch -> acc: 84.92%, loss: 0.433862: 100%|██████████| 782/782 [02:54<00:00,  4.48it/s]\n",
            "Loss: 6.387e-01 - Acc: 79.39% : 100%|██████████| 157/157 [00:33<00:00,  4.69it/s]\n",
            "epoch -> acc: 84.65%, loss: 0.435491: 100%|██████████| 782/782 [02:54<00:00,  4.48it/s]\n",
            "Loss: 6.153e-01 - Acc: 80.37% : 100%|██████████| 157/157 [00:33<00:00,  4.65it/s]\n",
            "epoch -> acc: 84.92%, loss: 0.433163: 100%|██████████| 782/782 [02:54<00:00,  4.48it/s]\n",
            "Loss: 6.581e-01 - Acc: 78.89% : 100%|██████████| 157/157 [00:33<00:00,  4.68it/s]\n",
            "epoch -> acc: 84.83%, loss: 0.432023: 100%|██████████| 782/782 [02:54<00:00,  4.48it/s]\n",
            "Loss: 6.314e-01 - Acc: 80.32% : 100%|██████████| 157/157 [00:33<00:00,  4.73it/s]\n",
            "epoch -> acc: 84.85%, loss: 0.432096: 100%|██████████| 782/782 [02:54<00:00,  4.48it/s]\n",
            "Loss: 6.890e-01 - Acc: 78.93% : 100%|██████████| 157/157 [00:33<00:00,  4.71it/s]\n"
          ]
        }
      ],
      "source": [
        "accs_train = []\n",
        "loss_train = []\n",
        "accs_test = []\n",
        "loss_test = []\n",
        "params_to_update = []\n",
        "for name,param in net.named_parameters():\n",
        "  if param.requires_grad == True:\n",
        "    params_to_update.append(param)\n",
        "criterion = nn.CrossEntropyLoss().to(device)\n",
        "fc_params = resnet50_model.fc.parameters()\n",
        "optimizer = torch.optim.RMSprop(params_to_update, lr=2e-3)\n",
        "for e in range(10):\n",
        "     accs_train,loss_train = teapoch(net, criterion, optimizer,  dataloader['train'],accs_train,loss_train)\n",
        "     accs_test,loss_test = tspoch(net, criterion, dataloader['test'],accs_test,loss_test)\n",
        "     if accs_test[-1]==max(accs_test):\n",
        "        torch.save(net.state_dict(), 'Resnet50_Cifar10.pth')"
      ]
    },
    {
      "cell_type": "code",
      "execution_count": 14,
      "metadata": {
        "id": "eIC_Zt-EhiKf"
      },
      "outputs": [],
      "source": [
        "def plot_history(accs_train, accs_test, loss_train , loss_test):\n",
        "    plt.figure(figsize=(10, 10))\n",
        "    plt.subplot(2, 1, 1)\n",
        "    plt.plot(accs_train)\n",
        "    plt.plot(accs_test)\n",
        "    plt.legend(['train acc', 'test acc'])\n",
        "    plt.xlabel('epoch')\n",
        "    plt.ylabel('loss value')\n",
        "    plt.subplot(2, 1, 2)\n",
        "    plt.plot(loss_train)\n",
        "    plt.plot(loss_test)\n",
        "    plt.legend(['train loss', 'test loss'])\n",
        "    plt.xlabel('epoch')\n",
        "    plt.ylabel('accuracy')\n",
        "    plt.show()"
      ]
    },
    {
      "cell_type": "code",
      "execution_count": 20,
      "metadata": {
        "colab": {
          "base_uri": "https://localhost:8080/",
          "height": 606
        },
        "id": "CqpqpGAx3miu",
        "outputId": "0b8a988e-f128-477f-f39d-223dda3a85fa"
      },
      "outputs": [
        {
          "data": {
            "image/png": "[encoded data removed]",
            "text/plain": [
              "<Figure size 720x720 with 2 Axes>"
            ]
          },
          "metadata": {
            "needs_background": "light"
          },
          "output_type": "display_data"
        }
      ],
      "source": [
        "plot_history(accs_train, accs_test, loss_train , loss_test)"
      ]
    },
    {
      "cell_type": "code",
      "execution_count": 21,
      "metadata": {
        "id": "jLM0wUxc3tCA"
      },
      "outputs": [],
      "source": [
        "def train_teacher(alpha,taw,student,teacher, criterion, optimizer, dataloader,   accs_train ,loss_train):\n",
        "\n",
        "    epoch_loss = 0\n",
        "    epoch_true = 0\n",
        "    epoch_all = 0\n",
        "    i = 0\n",
        "\n",
        "    student.train()\n",
        "    optimizer.zero_grad()\n",
        "    m = nn.Softmax(dim=1)\n",
        "    with tqdm(enumerate(dataloader), total=len(dataloader)) as pbar:\n",
        "        for i, (x, y) in pbar: \n",
        "            x = x.to(device)  \n",
        "            y = y.to(device)\n",
        "\n",
        "            prediction_student = student(x)\n",
        "            prediction_teacher = teacher(x)\n",
        "\n",
        "            soft_student_1 = m(prediction_student) \n",
        "            soft_student_t = m(prediction_student.divide(taw)) \n",
        "            soft_teacher = m(prediction_teacher.divide(taw)) \n",
        "\n",
        "            loss1 = criterion(soft_student_1, y)\n",
        "            loss2 = criterion(soft_student_t, soft_teacher)\n",
        "\n",
        "            loss = loss1.multiply(1-alpha)+loss2.multiply(alpha)\n",
        "\n",
        "            epoch_loss += float(loss)\n",
        "            predictions = prediction_student.argmax(-1)\n",
        "            epoch_all += len(predictions)\n",
        "            epoch_true += (predictions == y).sum()\n",
        "            pbar.set_description(f'train -> acc: {100*epoch_true / epoch_all:3.2f}%, loss: {epoch_loss / (i + 1):.6f}')\n",
        "            loss.backward()\n",
        "            optimizer.step()\n",
        "            optimizer.zero_grad()\n",
        "          \n",
        "        accs_train.append(float(epoch_true / epoch_all))\n",
        "        loss_train.append(float(epoch_loss / (i + 1)))\n",
        "    return accs_train,loss_train"
      ]
    },
    {
      "cell_type": "code",
      "execution_count": 22,
      "metadata": {
        "id": "LtQ8dIp1J6vg"
      },
      "outputs": [],
      "source": [
        "def test_teacher(alpha,taw,student,teacher, criterion, dataloader,  accs_test ,loss_test ):\n",
        "\n",
        "    epoch_loss = 0\n",
        "    epoch_true = 0\n",
        "    epoch_true_topfive = 0\n",
        "    epoch_all = 0\n",
        "    i = 0\n",
        "    m = nn.Softmax(dim=1)\n",
        "    student.eval()\n",
        "\n",
        "    with torch.no_grad(), tqdm(enumerate(dataloader), total=len(dataloader)) as pbar:\n",
        "        for i, (x, y) in pbar:\n",
        "            x = x.to(device)\n",
        "            y = y.to(device)\n",
        "\n",
        "            prediction_student = student(x)\n",
        "            prediction_teacher = teacher(x)\n",
        "\n",
        "            soft_student_1 = m(prediction_student) \n",
        "            soft_student_t = m(prediction_student.divide(taw)) \n",
        "            soft_teacher = m(prediction_teacher.divide(taw)) \n",
        "\n",
        "            loss1 = criterion(soft_student_1, y)\n",
        "            loss2 = criterion(soft_student_t, soft_teacher)\n",
        "\n",
        "            loss = loss1.multiply(1-alpha)+loss2.multiply(alpha)\n",
        "\n",
        "            epoch_loss += float(loss)\n",
        "\n",
        "            predictions = soft_student_1.argmax(-1)\n",
        "            epoch_all += len(predictions)\n",
        "            epoch_true += (predictions == y).sum()\n",
        "\n",
        "            pbar.set_description(f'test ->  Loss: {epoch_loss / (i + 1):.3e} - Acc: {epoch_true * 100. / epoch_all:.2f}% ')\n",
        "\n",
        "        accs_test.append(float(epoch_true / epoch_all))\n",
        "        loss_test.append(float(epoch_loss / (i + 1)))\n",
        "    return accs_test,loss_test"
      ]
    },
    {
      "cell_type": "code",
      "execution_count": 23,
      "metadata": {
        "colab": {
          "base_uri": "https://localhost:8080/"
        },
        "id": "NvcyIRurKgWk",
        "outputId": "8ae60e0a-398f-4dd2-e2f5-dcfbec31546a"
      },
      "outputs": [
        {
          "data": {
            "text/plain": [
              "lastLayer(\n",
              "  (pretrained): ResNet(\n",
              "    (conv1): Conv2d(3, 64, kernel_size=(7, 7), stride=(2, 2), padding=(3, 3), bias=False)\n",
              "    (bn1): BatchNorm2d(64, eps=1e-05, momentum=0.1, affine=True, track_running_stats=True)\n",
              "    (relu): ReLU(inplace=True)\n",
              "    (maxpool): MaxPool2d(kernel_size=3, stride=2, padding=1, dilation=1, ceil_mode=False)\n",
              "    (layer1): Sequential(\n",
              "      (0): Bottleneck(\n",
              "        (conv1): Conv2d(64, 64, kernel_size=(1, 1), stride=(1, 1), bias=False)\n",
              "        (bn1): BatchNorm2d(64, eps=1e-05, momentum=0.1, affine=True, track_running_stats=True)\n",
              "        (conv2): Conv2d(64, 64, kernel_size=(3, 3), stride=(1, 1), padding=(1, 1), bias=False)\n",
              "        (bn2): BatchNorm2d(64, eps=1e-05, momentum=0.1, affine=True, track_running_stats=True)\n",
              "        (conv3): Conv2d(64, 256, kernel_size=(1, 1), stride=(1, 1), bias=False)\n",
              "        (bn3): BatchNorm2d(256, eps=1e-05, momentum=0.1, affine=True, track_running_stats=True)\n",
              "        (relu): ReLU(inplace=True)\n",
              "        (downsample): Sequential(\n",
              "          (0): Conv2d(64, 256, kernel_size=(1, 1), stride=(1, 1), bias=False)\n",
              "          (1): BatchNorm2d(256, eps=1e-05, momentum=0.1, affine=True, track_running_stats=True)\n",
              "        )\n",
              "      )\n",
              "      (1): Bottleneck(\n",
              "        (conv1): Conv2d(256, 64, kernel_size=(1, 1), stride=(1, 1), bias=False)\n",
              "        (bn1): BatchNorm2d(64, eps=1e-05, momentum=0.1, affine=True, track_running_stats=True)\n",
              "        (conv2): Conv2d(64, 64, kernel_size=(3, 3), stride=(1, 1), padding=(1, 1), bias=False)\n",
              "        (bn2): BatchNorm2d(64, eps=1e-05, momentum=0.1, affine=True, track_running_stats=True)\n",
              "        (conv3): Conv2d(64, 256, kernel_size=(1, 1), stride=(1, 1), bias=False)\n",
              "        (bn3): BatchNorm2d(256, eps=1e-05, momentum=0.1, affine=True, track_running_stats=True)\n",
              "        (relu): ReLU(inplace=True)\n",
              "      )\n",
              "      (2): Bottleneck(\n",
              "        (conv1): Conv2d(256, 64, kernel_size=(1, 1), stride=(1, 1), bias=False)\n",
              "        (bn1): BatchNorm2d(64, eps=1e-05, momentum=0.1, affine=True, track_running_stats=True)\n",
              "        (conv2): Conv2d(64, 64, kernel_size=(3, 3), stride=(1, 1), padding=(1, 1), bias=False)\n",
              "        (bn2): BatchNorm2d(64, eps=1e-05, momentum=0.1, affine=True, track_running_stats=True)\n",
              "        (conv3): Conv2d(64, 256, kernel_size=(1, 1), stride=(1, 1), bias=False)\n",
              "        (bn3): BatchNorm2d(256, eps=1e-05, momentum=0.1, affine=True, track_running_stats=True)\n",
              "        (relu): ReLU(inplace=True)\n",
              "      )\n",
              "    )\n",
              "    (layer2): Sequential(\n",
              "      (0): Bottleneck(\n",
              "        (conv1): Conv2d(256, 128, kernel_size=(1, 1), stride=(1, 1), bias=False)\n",
              "        (bn1): BatchNorm2d(128, eps=1e-05, momentum=0.1, affine=True, track_running_stats=True)\n",
              "        (conv2): Conv2d(128, 128, kernel_size=(3, 3), stride=(2, 2), padding=(1, 1), bias=False)\n",
              "        (bn2): BatchNorm2d(128, eps=1e-05, momentum=0.1, affine=True, track_running_stats=True)\n",
              "        (conv3): Conv2d(128, 512, kernel_size=(1, 1), stride=(1, 1), bias=False)\n",
              "        (bn3): BatchNorm2d(512, eps=1e-05, momentum=0.1, affine=True, track_running_stats=True)\n",
              "        (relu): ReLU(inplace=True)\n",
              "        (downsample): Sequential(\n",
              "          (0): Conv2d(256, 512, kernel_size=(1, 1), stride=(2, 2), bias=False)\n",
              "          (1): BatchNorm2d(512, eps=1e-05, momentum=0.1, affine=True, track_running_stats=True)\n",
              "        )\n",
              "      )\n",
              "      (1): Bottleneck(\n",
              "        (conv1): Conv2d(512, 128, kernel_size=(1, 1), stride=(1, 1), bias=False)\n",
              "        (bn1): BatchNorm2d(128, eps=1e-05, momentum=0.1, affine=True, track_running_stats=True)\n",
              "        (conv2): Conv2d(128, 128, kernel_size=(3, 3), stride=(1, 1), padding=(1, 1), bias=False)\n",
              "        (bn2): BatchNorm2d(128, eps=1e-05, momentum=0.1, affine=True, track_running_stats=True)\n",
              "        (conv3): Conv2d(128, 512, kernel_size=(1, 1), stride=(1, 1), bias=False)\n",
              "        (bn3): BatchNorm2d(512, eps=1e-05, momentum=0.1, affine=True, track_running_stats=True)\n",
              "        (relu): ReLU(inplace=True)\n",
              "      )\n",
              "      (2): Bottleneck(\n",
              "        (conv1): Conv2d(512, 128, kernel_size=(1, 1), stride=(1, 1), bias=False)\n",
              "        (bn1): BatchNorm2d(128, eps=1e-05, momentum=0.1, affine=True, track_running_stats=True)\n",
              "        (conv2): Conv2d(128, 128, kernel_size=(3, 3), stride=(1, 1), padding=(1, 1), bias=False)\n",
              "        (bn2): BatchNorm2d(128, eps=1e-05, momentum=0.1, affine=True, track_running_stats=True)\n",
              "        (conv3): Conv2d(128, 512, kernel_size=(1, 1), stride=(1, 1), bias=False)\n",
              "        (bn3): BatchNorm2d(512, eps=1e-05, momentum=0.1, affine=True, track_running_stats=True)\n",
              "        (relu): ReLU(inplace=True)\n",
              "      )\n",
              "      (3): Bottleneck(\n",
              "        (conv1): Conv2d(512, 128, kernel_size=(1, 1), stride=(1, 1), bias=False)\n",
              "        (bn1): BatchNorm2d(128, eps=1e-05, momentum=0.1, affine=True, track_running_stats=True)\n",
              "        (conv2): Conv2d(128, 128, kernel_size=(3, 3), stride=(1, 1), padding=(1, 1), bias=False)\n",
              "        (bn2): BatchNorm2d(128, eps=1e-05, momentum=0.1, affine=True, track_running_stats=True)\n",
              "        (conv3): Conv2d(128, 512, kernel_size=(1, 1), stride=(1, 1), bias=False)\n",
              "        (bn3): BatchNorm2d(512, eps=1e-05, momentum=0.1, affine=True, track_running_stats=True)\n",
              "        (relu): ReLU(inplace=True)\n",
              "      )\n",
              "    )\n",
              "    (layer3): Sequential(\n",
              "      (0): Bottleneck(\n",
              "        (conv1): Conv2d(512, 256, kernel_size=(1, 1), stride=(1, 1), bias=False)\n",
              "        (bn1): BatchNorm2d(256, eps=1e-05, momentum=0.1, affine=True, track_running_stats=True)\n",
              "        (conv2): Conv2d(256, 256, kernel_size=(3, 3), stride=(2, 2), padding=(1, 1), bias=False)\n",
              "        (bn2): BatchNorm2d(256, eps=1e-05, momentum=0.1, affine=True, track_running_stats=True)\n",
              "        (conv3): Conv2d(256, 1024, kernel_size=(1, 1), stride=(1, 1), bias=False)\n",
              "        (bn3): BatchNorm2d(1024, eps=1e-05, momentum=0.1, affine=True, track_running_stats=True)\n",
              "        (relu): ReLU(inplace=True)\n",
              "        (downsample): Sequential(\n",
              "          (0): Conv2d(512, 1024, kernel_size=(1, 1), stride=(2, 2), bias=False)\n",
              "          (1): BatchNorm2d(1024, eps=1e-05, momentum=0.1, affine=True, track_running_stats=True)\n",
              "        )\n",
              "      )\n",
              "      (1): Bottleneck(\n",
              "        (conv1): Conv2d(1024, 256, kernel_size=(1, 1), stride=(1, 1), bias=False)\n",
              "        (bn1): BatchNorm2d(256, eps=1e-05, momentum=0.1, affine=True, track_running_stats=True)\n",
              "        (conv2): Conv2d(256, 256, kernel_size=(3, 3), stride=(1, 1), padding=(1, 1), bias=False)\n",
              "        (bn2): BatchNorm2d(256, eps=1e-05, momentum=0.1, affine=True, track_running_stats=True)\n",
              "        (conv3): Conv2d(256, 1024, kernel_size=(1, 1), stride=(1, 1), bias=False)\n",
              "        (bn3): BatchNorm2d(1024, eps=1e-05, momentum=0.1, affine=True, track_running_stats=True)\n",
              "        (relu): ReLU(inplace=True)\n",
              "      )\n",
              "      (2): Bottleneck(\n",
              "        (conv1): Conv2d(1024, 256, kernel_size=(1, 1), stride=(1, 1), bias=False)\n",
              "        (bn1): BatchNorm2d(256, eps=1e-05, momentum=0.1, affine=True, track_running_stats=True)\n",
              "        (conv2): Conv2d(256, 256, kernel_size=(3, 3), stride=(1, 1), padding=(1, 1), bias=False)\n",
              "        (bn2): BatchNorm2d(256, eps=1e-05, momentum=0.1, affine=True, track_running_stats=True)\n",
              "        (conv3): Conv2d(256, 1024, kernel_size=(1, 1), stride=(1, 1), bias=False)\n",
              "        (bn3): BatchNorm2d(1024, eps=1e-05, momentum=0.1, affine=True, track_running_stats=True)\n",
              "        (relu): ReLU(inplace=True)\n",
              "      )\n",
              "      (3): Bottleneck(\n",
              "        (conv1): Conv2d(1024, 256, kernel_size=(1, 1), stride=(1, 1), bias=False)\n",
              "        (bn1): BatchNorm2d(256, eps=1e-05, momentum=0.1, affine=True, track_running_stats=True)\n",
              "        (conv2): Conv2d(256, 256, kernel_size=(3, 3), stride=(1, 1), padding=(1, 1), bias=False)\n",
              "        (bn2): BatchNorm2d(256, eps=1e-05, momentum=0.1, affine=True, track_running_stats=True)\n",
              "        (conv3): Conv2d(256, 1024, kernel_size=(1, 1), stride=(1, 1), bias=False)\n",
              "        (bn3): BatchNorm2d(1024, eps=1e-05, momentum=0.1, affine=True, track_running_stats=True)\n",
              "        (relu): ReLU(inplace=True)\n",
              "      )\n",
              "      (4): Bottleneck(\n",
              "        (conv1): Conv2d(1024, 256, kernel_size=(1, 1), stride=(1, 1), bias=False)\n",
              "        (bn1): BatchNorm2d(256, eps=1e-05, momentum=0.1, affine=True, track_running_stats=True)\n",
              "        (conv2): Conv2d(256, 256, kernel_size=(3, 3), stride=(1, 1), padding=(1, 1), bias=False)\n",
              "        (bn2): BatchNorm2d(256, eps=1e-05, momentum=0.1, affine=True, track_running_stats=True)\n",
              "        (conv3): Conv2d(256, 1024, kernel_size=(1, 1), stride=(1, 1), bias=False)\n",
              "        (bn3): BatchNorm2d(1024, eps=1e-05, momentum=0.1, affine=True, track_running_stats=True)\n",
              "        (relu): ReLU(inplace=True)\n",
              "      )\n",
              "      (5): Bottleneck(\n",
              "        (conv1): Conv2d(1024, 256, kernel_size=(1, 1), stride=(1, 1), bias=False)\n",
              "        (bn1): BatchNorm2d(256, eps=1e-05, momentum=0.1, affine=True, track_running_stats=True)\n",
              "        (conv2): Conv2d(256, 256, kernel_size=(3, 3), stride=(1, 1), padding=(1, 1), bias=False)\n",
              "        (bn2): BatchNorm2d(256, eps=1e-05, momentum=0.1, affine=True, track_running_stats=True)\n",
              "        (conv3): Conv2d(256, 1024, kernel_size=(1, 1), stride=(1, 1), bias=False)\n",
              "        (bn3): BatchNorm2d(1024, eps=1e-05, momentum=0.1, affine=True, track_running_stats=True)\n",
              "        (relu): ReLU(inplace=True)\n",
              "      )\n",
              "    )\n",
              "    (layer4): Sequential(\n",
              "      (0): Bottleneck(\n",
              "        (conv1): Conv2d(1024, 512, kernel_size=(1, 1), stride=(1, 1), bias=False)\n",
              "        (bn1): BatchNorm2d(512, eps=1e-05, momentum=0.1, affine=True, track_running_stats=True)\n",
              "        (conv2): Conv2d(512, 512, kernel_size=(3, 3), stride=(2, 2), padding=(1, 1), bias=False)\n",
              "        (bn2): BatchNorm2d(512, eps=1e-05, momentum=0.1, affine=True, track_running_stats=True)\n",
              "        (conv3): Conv2d(512, 2048, kernel_size=(1, 1), stride=(1, 1), bias=False)\n",
              "        (bn3): BatchNorm2d(2048, eps=1e-05, momentum=0.1, affine=True, track_running_stats=True)\n",
              "        (relu): ReLU(inplace=True)\n",
              "        (downsample): Sequential(\n",
              "          (0): Conv2d(1024, 2048, kernel_size=(1, 1), stride=(2, 2), bias=False)\n",
              "          (1): BatchNorm2d(2048, eps=1e-05, momentum=0.1, affine=True, track_running_stats=True)\n",
              "        )\n",
              "      )\n",
              "      (1): Bottleneck(\n",
              "        (conv1): Conv2d(2048, 512, kernel_size=(1, 1), stride=(1, 1), bias=False)\n",
              "        (bn1): BatchNorm2d(512, eps=1e-05, momentum=0.1, affine=True, track_running_stats=True)\n",
              "        (conv2): Conv2d(512, 512, kernel_size=(3, 3), stride=(1, 1), padding=(1, 1), bias=False)\n",
              "        (bn2): BatchNorm2d(512, eps=1e-05, momentum=0.1, affine=True, track_running_stats=True)\n",
              "        (conv3): Conv2d(512, 2048, kernel_size=(1, 1), stride=(1, 1), bias=False)\n",
              "        (bn3): BatchNorm2d(2048, eps=1e-05, momentum=0.1, affine=True, track_running_stats=True)\n",
              "        (relu): ReLU(inplace=True)\n",
              "      )\n",
              "      (2): Bottleneck(\n",
              "        (conv1): Conv2d(2048, 512, kernel_size=(1, 1), stride=(1, 1), bias=False)\n",
              "        (bn1): BatchNorm2d(512, eps=1e-05, momentum=0.1, affine=True, track_running_stats=True)\n",
              "        (conv2): Conv2d(512, 512, kernel_size=(3, 3), stride=(1, 1), padding=(1, 1), bias=False)\n",
              "        (bn2): BatchNorm2d(512, eps=1e-05, momentum=0.1, affine=True, track_running_stats=True)\n",
              "        (conv3): Conv2d(512, 2048, kernel_size=(1, 1), stride=(1, 1), bias=False)\n",
              "        (bn3): BatchNorm2d(2048, eps=1e-05, momentum=0.1, affine=True, track_running_stats=True)\n",
              "        (relu): ReLU(inplace=True)\n",
              "      )\n",
              "    )\n",
              "    (avgpool): AdaptiveAvgPool2d(output_size=(1, 1))\n",
              "    (fc): Sequential()\n",
              "  )\n",
              "  (last): Sequential(\n",
              "    (0): Linear(in_features=2048, out_features=10, bias=True)\n",
              "  )\n",
              ")"
            ]
          },
          "execution_count": 23,
          "metadata": {},
          "output_type": "execute_result"
        }
      ],
      "source": [
        "class lastLayer(nn.Module):\n",
        "      def __init__(self, pretrained):\n",
        "          super(lastLayer, self).__init__()\n",
        "          self.pretrained = pretrained\n",
        "          self.last = nn.Sequential(\n",
        "              nn.Linear(2048, 10))\n",
        "      \n",
        "      def forward(self, x):\n",
        "          x = self.pretrained(x)\n",
        "          x = self.last(x)\n",
        "          return x\n",
        "\n",
        "teacher = resnet50()\n",
        "teacher.fc = nn.Sequential()\n",
        "teacher = lastLayer(teacher).to(device)\n",
        "teacher.load_state_dict(torch.load(\"Resnet50_Cifar10.pth\"),strict = False)\n",
        "teacher.eval()"
      ]
    },
    {
      "cell_type": "code",
      "execution_count": 24,
      "metadata": {
        "id": "iNfSS1cHLHBL"
      },
      "outputs": [],
      "source": [
        "class lastLayer(nn.Module):\n",
        "      def __init__(self, pretrained):\n",
        "          super(lastLayer, self).__init__()\n",
        "          self.pretrained = pretrained\n",
        "          self.last = nn.Sequential(\n",
        "              nn.Linear(512, 10))\n",
        "      \n",
        "      def forward(self, x):\n",
        "          x = self.pretrained(x)\n",
        "          x = self.last(x)\n",
        "          return x\n",
        "\n",
        "student = resnet18()\n",
        "student.fc = nn.Sequential()\n",
        "student = lastLayer(student).to(device)"
      ]
    },
    {
      "cell_type": "code",
      "execution_count": 25,
      "metadata": {
        "id": "XSNt56fdNCt9"
      },
      "outputs": [],
      "source": [
        "criterion = nn.CrossEntropyLoss().to(device)\n",
        "params_to_update = []\n",
        "for name,param in student.named_parameters():\n",
        "  if param.requires_grad == True:\n",
        "      params_to_update.append(param)"
      ]
    },
    {
      "cell_type": "code",
      "execution_count": 29,
      "metadata": {
        "colab": {
          "base_uri": "https://localhost:8080/"
        },
        "id": "zyjpI0APNWtG",
        "outputId": "66d79cf7-1678-4892-8276-5714a7439c0d"
      },
      "outputs": [
        {
          "name": "stderr",
          "output_type": "stream",
          "text": [
            "train -> acc: 68.15%, loss: 1.846141: 100%|██████████| 782/782 [10:00<00:00,  1.30it/s]\n",
            "test ->  Loss: 1.886e+00 - Acc: 63.38% : 100%|██████████| 157/157 [00:40<00:00,  3.88it/s]\n"
          ]
        }
      ],
      "source": [
        "optimizer = torch.optim.RMSprop(params_to_update, lr=1e-4)\n",
        "alpha = 0.5\n",
        "taw  = 2\n",
        "epochs = 1\n",
        "accs_train = []\n",
        "loss_train = []\n",
        "accs_test = []\n",
        "loss_test = []\n",
        "for e in range(epochs):\n",
        "  accs_train,loss_train = train_teacher(alpha,taw,student,teacher, criterion, optimizer,dataloader['train'],accs_train,loss_train)\n",
        "  accs_test,loss_test = test_teacher(alpha,taw,student,teacher, criterion, dataloader['test'],accs_test,loss_test)\n",
        "  if accs_test[-1]==max(accs_test):\n",
        "    torch.save(student.state_dict(), 'Resnet18_Cifar10_KD.pth')"
      ]
    },
    {
      "cell_type": "code",
      "execution_count": 30,
      "metadata": {
        "colab": {
          "base_uri": "https://localhost:8080/"
        },
        "id": "g0Pk20XWN6F2",
        "outputId": "e13e7ff8-2b0b-48db-df5d-bc30edac4703"
      },
      "outputs": [
        {
          "name": "stderr",
          "output_type": "stream",
          "text": [
            "train -> acc: 73.88%, loss: 1.771217: 100%|██████████| 782/782 [10:00<00:00,  1.30it/s]\n",
            "test ->  Loss: 1.819e+00 - Acc: 68.54% : 100%|██████████| 157/157 [00:40<00:00,  3.87it/s]\n"
          ]
        }
      ],
      "source": [
        "alpha = 0.3\n",
        "taw  = 2\n",
        "epochs = 1\n",
        "accs_train_2 = []\n",
        "loss_train_2 = []\n",
        "accs_test_2= []\n",
        "loss_test_2 = []\n",
        "for e in range(epochs):\n",
        "  accs_train_2,loss_train_2 = train_teacher(alpha,taw,student,teacher, criterion, optimizer,dataloader['train'],accs_train,loss_train)\n",
        "  accs_test_2,loss_test_2 = test_teacher(alpha,taw,student,teacher, criterion, dataloader['test'],accs_test,loss_test)\n",
        "  if accs_test[-1]==max(accs_test):\n",
        "    torch.save(student.state_dict(), 'Resnet18_Cifar10_KD2.pth')"
      ]
    },
    {
      "cell_type": "code",
      "execution_count": 31,
      "metadata": {
        "id": "2wJQj0bNOQuw"
      },
      "outputs": [],
      "source": [
        "def train_wo_teacher(net: nn.Module, criterion: nn.Module, optimizer: torch.optim.Optimizer, dataloader: torch.utils.data.DataLoader,   accs_train ,loss_train):\n",
        "\n",
        "    epoch_loss = 0\n",
        "    epoch_true = 0\n",
        "    epoch_all = 0\n",
        "    i = 0\n",
        "\n",
        "    net.train()\n",
        "    optimizer.zero_grad()\n",
        "    m = nn.Softmax(dim=1)\n",
        "    with tqdm(enumerate(dataloader), total=len(dataloader)) as pbar:\n",
        "        for i, (x, y) in pbar: \n",
        "            x = x.to(device)  \n",
        "            y = y.to(device)\n",
        "            p = m(net(x))\n",
        "            loss = criterion(p, y)\n",
        "            epoch_loss += float(loss)\n",
        "            predictions = p.argmax(-1)\n",
        "            epoch_all += len(predictions)\n",
        "            epoch_true += (predictions == y).sum()\n",
        "            pbar.set_description(f'epoch -> acc: {100*epoch_true / epoch_all:3.2f}%, loss: {epoch_loss / (i + 1):.6f}')\n",
        "            loss.backward()\n",
        "            optimizer.step()\n",
        "            optimizer.zero_grad()\n",
        "          \n",
        "        accs_train.append(float(epoch_true / epoch_all))\n",
        "        loss_train.append(float(epoch_loss / (i + 1)))\n",
        "    return accs_train,loss_train"
      ]
    },
    {
      "cell_type": "code",
      "execution_count": 32,
      "metadata": {
        "colab": {
          "base_uri": "https://localhost:8080/"
        },
        "id": "JeYVGPsAPQhi",
        "outputId": "6743a42c-2673-4868-8d5f-5079179879ef"
      },
      "outputs": [
        {
          "data": {
            "text/plain": [
              "lastLayer(\n",
              "  (pretrained): ResNet(\n",
              "    (conv1): Conv2d(3, 64, kernel_size=(7, 7), stride=(2, 2), padding=(3, 3), bias=False)\n",
              "    (bn1): BatchNorm2d(64, eps=1e-05, momentum=0.1, affine=True, track_running_stats=True)\n",
              "    (relu): ReLU(inplace=True)\n",
              "    (maxpool): MaxPool2d(kernel_size=3, stride=2, padding=1, dilation=1, ceil_mode=False)\n",
              "    (layer1): Sequential(\n",
              "      (0): Bottleneck(\n",
              "        (conv1): Conv2d(64, 64, kernel_size=(1, 1), stride=(1, 1), bias=False)\n",
              "        (bn1): BatchNorm2d(64, eps=1e-05, momentum=0.1, affine=True, track_running_stats=True)\n",
              "        (conv2): Conv2d(64, 64, kernel_size=(3, 3), stride=(1, 1), padding=(1, 1), bias=False)\n",
              "        (bn2): BatchNorm2d(64, eps=1e-05, momentum=0.1, affine=True, track_running_stats=True)\n",
              "        (conv3): Conv2d(64, 256, kernel_size=(1, 1), stride=(1, 1), bias=False)\n",
              "        (bn3): BatchNorm2d(256, eps=1e-05, momentum=0.1, affine=True, track_running_stats=True)\n",
              "        (relu): ReLU(inplace=True)\n",
              "        (downsample): Sequential(\n",
              "          (0): Conv2d(64, 256, kernel_size=(1, 1), stride=(1, 1), bias=False)\n",
              "          (1): BatchNorm2d(256, eps=1e-05, momentum=0.1, affine=True, track_running_stats=True)\n",
              "        )\n",
              "      )\n",
              "      (1): Bottleneck(\n",
              "        (conv1): Conv2d(256, 64, kernel_size=(1, 1), stride=(1, 1), bias=False)\n",
              "        (bn1): BatchNorm2d(64, eps=1e-05, momentum=0.1, affine=True, track_running_stats=True)\n",
              "        (conv2): Conv2d(64, 64, kernel_size=(3, 3), stride=(1, 1), padding=(1, 1), bias=False)\n",
              "        (bn2): BatchNorm2d(64, eps=1e-05, momentum=0.1, affine=True, track_running_stats=True)\n",
              "        (conv3): Conv2d(64, 256, kernel_size=(1, 1), stride=(1, 1), bias=False)\n",
              "        (bn3): BatchNorm2d(256, eps=1e-05, momentum=0.1, affine=True, track_running_stats=True)\n",
              "        (relu): ReLU(inplace=True)\n",
              "      )\n",
              "      (2): Bottleneck(\n",
              "        (conv1): Conv2d(256, 64, kernel_size=(1, 1), stride=(1, 1), bias=False)\n",
              "        (bn1): BatchNorm2d(64, eps=1e-05, momentum=0.1, affine=True, track_running_stats=True)\n",
              "        (conv2): Conv2d(64, 64, kernel_size=(3, 3), stride=(1, 1), padding=(1, 1), bias=False)\n",
              "        (bn2): BatchNorm2d(64, eps=1e-05, momentum=0.1, affine=True, track_running_stats=True)\n",
              "        (conv3): Conv2d(64, 256, kernel_size=(1, 1), stride=(1, 1), bias=False)\n",
              "        (bn3): BatchNorm2d(256, eps=1e-05, momentum=0.1, affine=True, track_running_stats=True)\n",
              "        (relu): ReLU(inplace=True)\n",
              "      )\n",
              "    )\n",
              "    (layer2): Sequential(\n",
              "      (0): Bottleneck(\n",
              "        (conv1): Conv2d(256, 128, kernel_size=(1, 1), stride=(1, 1), bias=False)\n",
              "        (bn1): BatchNorm2d(128, eps=1e-05, momentum=0.1, affine=True, track_running_stats=True)\n",
              "        (conv2): Conv2d(128, 128, kernel_size=(3, 3), stride=(2, 2), padding=(1, 1), bias=False)\n",
              "        (bn2): BatchNorm2d(128, eps=1e-05, momentum=0.1, affine=True, track_running_stats=True)\n",
              "        (conv3): Conv2d(128, 512, kernel_size=(1, 1), stride=(1, 1), bias=False)\n",
              "        (bn3): BatchNorm2d(512, eps=1e-05, momentum=0.1, affine=True, track_running_stats=True)\n",
              "        (relu): ReLU(inplace=True)\n",
              "        (downsample): Sequential(\n",
              "          (0): Conv2d(256, 512, kernel_size=(1, 1), stride=(2, 2), bias=False)\n",
              "          (1): BatchNorm2d(512, eps=1e-05, momentum=0.1, affine=True, track_running_stats=True)\n",
              "        )\n",
              "      )\n",
              "      (1): Bottleneck(\n",
              "        (conv1): Conv2d(512, 128, kernel_size=(1, 1), stride=(1, 1), bias=False)\n",
              "        (bn1): BatchNorm2d(128, eps=1e-05, momentum=0.1, affine=True, track_running_stats=True)\n",
              "        (conv2): Conv2d(128, 128, kernel_size=(3, 3), stride=(1, 1), padding=(1, 1), bias=False)\n",
              "        (bn2): BatchNorm2d(128, eps=1e-05, momentum=0.1, affine=True, track_running_stats=True)\n",
              "        (conv3): Conv2d(128, 512, kernel_size=(1, 1), stride=(1, 1), bias=False)\n",
              "        (bn3): BatchNorm2d(512, eps=1e-05, momentum=0.1, affine=True, track_running_stats=True)\n",
              "        (relu): ReLU(inplace=True)\n",
              "      )\n",
              "      (2): Bottleneck(\n",
              "        (conv1): Conv2d(512, 128, kernel_size=(1, 1), stride=(1, 1), bias=False)\n",
              "        (bn1): BatchNorm2d(128, eps=1e-05, momentum=0.1, affine=True, track_running_stats=True)\n",
              "        (conv2): Conv2d(128, 128, kernel_size=(3, 3), stride=(1, 1), padding=(1, 1), bias=False)\n",
              "        (bn2): BatchNorm2d(128, eps=1e-05, momentum=0.1, affine=True, track_running_stats=True)\n",
              "        (conv3): Conv2d(128, 512, kernel_size=(1, 1), stride=(1, 1), bias=False)\n",
              "        (bn3): BatchNorm2d(512, eps=1e-05, momentum=0.1, affine=True, track_running_stats=True)\n",
              "        (relu): ReLU(inplace=True)\n",
              "      )\n",
              "      (3): Bottleneck(\n",
              "        (conv1): Conv2d(512, 128, kernel_size=(1, 1), stride=(1, 1), bias=False)\n",
              "        (bn1): BatchNorm2d(128, eps=1e-05, momentum=0.1, affine=True, track_running_stats=True)\n",
              "        (conv2): Conv2d(128, 128, kernel_size=(3, 3), stride=(1, 1), padding=(1, 1), bias=False)\n",
              "        (bn2): BatchNorm2d(128, eps=1e-05, momentum=0.1, affine=True, track_running_stats=True)\n",
              "        (conv3): Conv2d(128, 512, kernel_size=(1, 1), stride=(1, 1), bias=False)\n",
              "        (bn3): BatchNorm2d(512, eps=1e-05, momentum=0.1, affine=True, track_running_stats=True)\n",
              "        (relu): ReLU(inplace=True)\n",
              "      )\n",
              "    )\n",
              "    (layer3): Sequential(\n",
              "      (0): Bottleneck(\n",
              "        (conv1): Conv2d(512, 256, kernel_size=(1, 1), stride=(1, 1), bias=False)\n",
              "        (bn1): BatchNorm2d(256, eps=1e-05, momentum=0.1, affine=True, track_running_stats=True)\n",
              "        (conv2): Conv2d(256, 256, kernel_size=(3, 3), stride=(2, 2), padding=(1, 1), bias=False)\n",
              "        (bn2): BatchNorm2d(256, eps=1e-05, momentum=0.1, affine=True, track_running_stats=True)\n",
              "        (conv3): Conv2d(256, 1024, kernel_size=(1, 1), stride=(1, 1), bias=False)\n",
              "        (bn3): BatchNorm2d(1024, eps=1e-05, momentum=0.1, affine=True, track_running_stats=True)\n",
              "        (relu): ReLU(inplace=True)\n",
              "        (downsample): Sequential(\n",
              "          (0): Conv2d(512, 1024, kernel_size=(1, 1), stride=(2, 2), bias=False)\n",
              "          (1): BatchNorm2d(1024, eps=1e-05, momentum=0.1, affine=True, track_running_stats=True)\n",
              "        )\n",
              "      )\n",
              "      (1): Bottleneck(\n",
              "        (conv1): Conv2d(1024, 256, kernel_size=(1, 1), stride=(1, 1), bias=False)\n",
              "        (bn1): BatchNorm2d(256, eps=1e-05, momentum=0.1, affine=True, track_running_stats=True)\n",
              "        (conv2): Conv2d(256, 256, kernel_size=(3, 3), stride=(1, 1), padding=(1, 1), bias=False)\n",
              "        (bn2): BatchNorm2d(256, eps=1e-05, momentum=0.1, affine=True, track_running_stats=True)\n",
              "        (conv3): Conv2d(256, 1024, kernel_size=(1, 1), stride=(1, 1), bias=False)\n",
              "        (bn3): BatchNorm2d(1024, eps=1e-05, momentum=0.1, affine=True, track_running_stats=True)\n",
              "        (relu): ReLU(inplace=True)\n",
              "      )\n",
              "      (2): Bottleneck(\n",
              "        (conv1): Conv2d(1024, 256, kernel_size=(1, 1), stride=(1, 1), bias=False)\n",
              "        (bn1): BatchNorm2d(256, eps=1e-05, momentum=0.1, affine=True, track_running_stats=True)\n",
              "        (conv2): Conv2d(256, 256, kernel_size=(3, 3), stride=(1, 1), padding=(1, 1), bias=False)\n",
              "        (bn2): BatchNorm2d(256, eps=1e-05, momentum=0.1, affine=True, track_running_stats=True)\n",
              "        (conv3): Conv2d(256, 1024, kernel_size=(1, 1), stride=(1, 1), bias=False)\n",
              "        (bn3): BatchNorm2d(1024, eps=1e-05, momentum=0.1, affine=True, track_running_stats=True)\n",
              "        (relu): ReLU(inplace=True)\n",
              "      )\n",
              "      (3): Bottleneck(\n",
              "        (conv1): Conv2d(1024, 256, kernel_size=(1, 1), stride=(1, 1), bias=False)\n",
              "        (bn1): BatchNorm2d(256, eps=1e-05, momentum=0.1, affine=True, track_running_stats=True)\n",
              "        (conv2): Conv2d(256, 256, kernel_size=(3, 3), stride=(1, 1), padding=(1, 1), bias=False)\n",
              "        (bn2): BatchNorm2d(256, eps=1e-05, momentum=0.1, affine=True, track_running_stats=True)\n",
              "        (conv3): Conv2d(256, 1024, kernel_size=(1, 1), stride=(1, 1), bias=False)\n",
              "        (bn3): BatchNorm2d(1024, eps=1e-05, momentum=0.1, affine=True, track_running_stats=True)\n",
              "        (relu): ReLU(inplace=True)\n",
              "      )\n",
              "      (4): Bottleneck(\n",
              "        (conv1): Conv2d(1024, 256, kernel_size=(1, 1), stride=(1, 1), bias=False)\n",
              "        (bn1): BatchNorm2d(256, eps=1e-05, momentum=0.1, affine=True, track_running_stats=True)\n",
              "        (conv2): Conv2d(256, 256, kernel_size=(3, 3), stride=(1, 1), padding=(1, 1), bias=False)\n",
              "        (bn2): BatchNorm2d(256, eps=1e-05, momentum=0.1, affine=True, track_running_stats=True)\n",
              "        (conv3): Conv2d(256, 1024, kernel_size=(1, 1), stride=(1, 1), bias=False)\n",
              "        (bn3): BatchNorm2d(1024, eps=1e-05, momentum=0.1, affine=True, track_running_stats=True)\n",
              "        (relu): ReLU(inplace=True)\n",
              "      )\n",
              "      (5): Bottleneck(\n",
              "        (conv1): Conv2d(1024, 256, kernel_size=(1, 1), stride=(1, 1), bias=False)\n",
              "        (bn1): BatchNorm2d(256, eps=1e-05, momentum=0.1, affine=True, track_running_stats=True)\n",
              "        (conv2): Conv2d(256, 256, kernel_size=(3, 3), stride=(1, 1), padding=(1, 1), bias=False)\n",
              "        (bn2): BatchNorm2d(256, eps=1e-05, momentum=0.1, affine=True, track_running_stats=True)\n",
              "        (conv3): Conv2d(256, 1024, kernel_size=(1, 1), stride=(1, 1), bias=False)\n",
              "        (bn3): BatchNorm2d(1024, eps=1e-05, momentum=0.1, affine=True, track_running_stats=True)\n",
              "        (relu): ReLU(inplace=True)\n",
              "      )\n",
              "    )\n",
              "    (layer4): Sequential(\n",
              "      (0): Bottleneck(\n",
              "        (conv1): Conv2d(1024, 512, kernel_size=(1, 1), stride=(1, 1), bias=False)\n",
              "        (bn1): BatchNorm2d(512, eps=1e-05, momentum=0.1, affine=True, track_running_stats=True)\n",
              "        (conv2): Conv2d(512, 512, kernel_size=(3, 3), stride=(2, 2), padding=(1, 1), bias=False)\n",
              "        (bn2): BatchNorm2d(512, eps=1e-05, momentum=0.1, affine=True, track_running_stats=True)\n",
              "        (conv3): Conv2d(512, 2048, kernel_size=(1, 1), stride=(1, 1), bias=False)\n",
              "        (bn3): BatchNorm2d(2048, eps=1e-05, momentum=0.1, affine=True, track_running_stats=True)\n",
              "        (relu): ReLU(inplace=True)\n",
              "        (downsample): Sequential(\n",
              "          (0): Conv2d(1024, 2048, kernel_size=(1, 1), stride=(2, 2), bias=False)\n",
              "          (1): BatchNorm2d(2048, eps=1e-05, momentum=0.1, affine=True, track_running_stats=True)\n",
              "        )\n",
              "      )\n",
              "      (1): Bottleneck(\n",
              "        (conv1): Conv2d(2048, 512, kernel_size=(1, 1), stride=(1, 1), bias=False)\n",
              "        (bn1): BatchNorm2d(512, eps=1e-05, momentum=0.1, affine=True, track_running_stats=True)\n",
              "        (conv2): Conv2d(512, 512, kernel_size=(3, 3), stride=(1, 1), padding=(1, 1), bias=False)\n",
              "        (bn2): BatchNorm2d(512, eps=1e-05, momentum=0.1, affine=True, track_running_stats=True)\n",
              "        (conv3): Conv2d(512, 2048, kernel_size=(1, 1), stride=(1, 1), bias=False)\n",
              "        (bn3): BatchNorm2d(2048, eps=1e-05, momentum=0.1, affine=True, track_running_stats=True)\n",
              "        (relu): ReLU(inplace=True)\n",
              "      )\n",
              "      (2): Bottleneck(\n",
              "        (conv1): Conv2d(2048, 512, kernel_size=(1, 1), stride=(1, 1), bias=False)\n",
              "        (bn1): BatchNorm2d(512, eps=1e-05, momentum=0.1, affine=True, track_running_stats=True)\n",
              "        (conv2): Conv2d(512, 512, kernel_size=(3, 3), stride=(1, 1), padding=(1, 1), bias=False)\n",
              "        (bn2): BatchNorm2d(512, eps=1e-05, momentum=0.1, affine=True, track_running_stats=True)\n",
              "        (conv3): Conv2d(512, 2048, kernel_size=(1, 1), stride=(1, 1), bias=False)\n",
              "        (bn3): BatchNorm2d(2048, eps=1e-05, momentum=0.1, affine=True, track_running_stats=True)\n",
              "        (relu): ReLU(inplace=True)\n",
              "      )\n",
              "    )\n",
              "    (avgpool): AdaptiveAvgPool2d(output_size=(1, 1))\n",
              "    (fc): Sequential()\n",
              "  )\n",
              "  (last): Sequential(\n",
              "    (0): Linear(in_features=2048, out_features=10, bias=True)\n",
              "  )\n",
              ")"
            ]
          },
          "execution_count": 32,
          "metadata": {},
          "output_type": "execute_result"
        }
      ],
      "source": [
        "class lastLayer(nn.Module):\n",
        "  def __init__(self, pretrained):\n",
        "    super(lastLayer, self).__init__()\n",
        "    self.pretrained = pretrained\n",
        "    self.last = nn.Sequential(nn.Linear(2048, 10))\n",
        "      \n",
        "  def forward(self, x):\n",
        "    x = self.pretrained(x)\n",
        "    x = self.last(x)\n",
        "    return x\n",
        "\n",
        "teacher = resnet50()\n",
        "teacher.fc = nn.Sequential()\n",
        "teacher = lastLayer(teacher).to(device)\n",
        "teacher.load_state_dict(torch.load(\"Resnet50_Cifar10.pth\"),strict = False)\n",
        "teacher.eval()"
      ]
    },
    {
      "cell_type": "code",
      "execution_count": 33,
      "metadata": {
        "id": "cElgSDE5QJLl"
      },
      "outputs": [],
      "source": [
        "class lastLayer(nn.Module):\n",
        "    def __init__(self, pretrained):\n",
        "      super(lastLayer, self).__init__()\n",
        "      self.pretrained = pretrained\n",
        "      self.last = nn.Sequential(\n",
        "      nn.Linear(512, 10))\n",
        "\n",
        "    def forward(self, x):\n",
        "      x = self.pretrained(x)     \n",
        "      x = self.last(x)\n",
        "      return x\n",
        "\n",
        "student = resnet18()\n",
        "student.fc = nn.Sequential()\n",
        "student = lastLayer(student).to(device)"
      ]
    },
    {
      "cell_type": "code",
      "execution_count": 34,
      "metadata": {
        "id": "dWEPA2NiRyKk"
      },
      "outputs": [],
      "source": [
        "criterion = nn.CrossEntropyLoss().to(device)\n",
        "params_to_update = []\n",
        "for name,param in student.named_parameters():\n",
        "  if param.requires_grad == True:\n",
        "      params_to_update.append(param)"
      ]
    },
    {
      "cell_type": "code",
      "execution_count": 36,
      "metadata": {
        "colab": {
          "base_uri": "https://localhost:8080/"
        },
        "id": "fso4IhU2SNMw",
        "outputId": "579c597c-505f-40ab-e70f-c6ee40e89a66"
      },
      "outputs": [
        {
          "name": "stderr",
          "output_type": "stream",
          "text": [
            "train -> acc: 45.19%, loss: 2.029117: 100%|██████████| 782/782 [10:00<00:00,  1.30it/s]\n",
            "test ->  Loss: 1.999e+00 - Acc: 49.00% : 100%|██████████| 157/157 [00:40<00:00,  3.85it/s]\n",
            "train -> acc: 59.63%, loss: 1.899638: 100%|██████████| 782/782 [10:00<00:00,  1.30it/s]\n",
            "test ->  Loss: 1.886e+00 - Acc: 60.78% : 100%|██████████| 157/157 [00:40<00:00,  3.85it/s]\n",
            "train -> acc: 67.17%, loss: 1.833212: 100%|██████████| 782/782 [10:00<00:00,  1.30it/s]\n",
            "test ->  Loss: 1.937e+00 - Acc: 55.20% : 100%|██████████| 157/157 [00:40<00:00,  3.85it/s]\n"
          ]
        }
      ],
      "source": [
        "optimizer = torch.optim.RMSprop(params_to_update, lr=1e-4)\n",
        "accs_train = []\n",
        "loss_train = []\n",
        "accs_test = []\n",
        "loss_test = []\n",
        "for e in range(3):\n",
        "  accs_train,loss_train = train_teacher(alpha,taw,student,teacher, criterion, optimizer,dataloader['train'],accs_train,loss_train)\n",
        "  accs_test,loss_test = test_teacher(alpha,taw,student,teacher, criterion, dataloader['test'],accs_test,loss_test)\n",
        "  if accs_test[-1]==max(accs_test):\n",
        "    torch.save(student.state_dict(), 'Resnet18_Cifar10_WO_teacher.pth')"
      ]
    },
    {
      "attachments": {},
      "cell_type": "markdown",
      "metadata": {},
      "source": [
        " The performance of training using the teacher model is better because it gives the student model a hint about how a good distribution on the probability of the output vector is. In the classic method we only push the output vector to have the highest probability on the correct class."
      ]
    },
    {
      "cell_type": "code",
      "execution_count": 64,
      "metadata": {
        "id": "8WtAdCLLSZty"
      },
      "outputs": [],
      "source": [
        "from torchvision.models import resnet50, ResNet50_Weights\n",
        "resnet50_model = resnet50(weights=\"IMAGENET1K_V2\")\n",
        "resnet50_model.fc = nn.Linear(in_features=2048, out_features=10, bias=True)\n",
        "params = resnet50_model.parameters()\n",
        "for param in params: \n",
        "  param.requires_grad = True\n",
        "criterion = nn.CrossEntropyLoss()\n",
        "params = resnet50_model.parameters()\n",
        "resnet50_optimizer = optim.SGD(params, lr=0.001, momentum=0.9)\n"
      ]
    },
    {
      "cell_type": "code",
      "execution_count": 66,
      "metadata": {
        "id": "I5_XjnKsv9fE"
      },
      "outputs": [],
      "source": [
        "torch.cuda.empty_cache()"
      ]
    },
    {
      "cell_type": "code",
      "execution_count": 11,
      "metadata": {
        "colab": {
          "base_uri": "https://localhost:8080/"
        },
        "id": "fDZVv0ea03Mp",
        "outputId": "cf650f92-0e5f-4b54-d9f4-294770066490"
      },
      "outputs": [
        {
          "name": "stdout",
          "output_type": "stream",
          "text": [
            "0\n"
          ]
        },
        {
          "name": "stderr",
          "output_type": "stream",
          "text": [
            "epoch -> acc: 89.75%, loss: 0.309363: 100%|██████████| 782/782 [08:28<00:00,  1.54it/s]\n",
            "Loss: 1.953e-01 - Acc: 93.22% : 100%|██████████| 157/157 [00:33<00:00,  4.63it/s]\n"
          ]
        },
        {
          "name": "stdout",
          "output_type": "stream",
          "text": [
            "1\n"
          ]
        },
        {
          "name": "stderr",
          "output_type": "stream",
          "text": [
            "epoch -> acc: 95.92%, loss: 0.125028: 100%|██████████| 782/782 [08:27<00:00,  1.54it/s]\n",
            "Loss: 2.625e-01 - Acc: 91.59% : 100%|██████████| 157/157 [00:33<00:00,  4.71it/s]\n"
          ]
        }
      ],
      "source": [
        "class lastLayer(nn.Module):\n",
        "  def __init__(self, pretrained):\n",
        "    super(lastLayer, self).__init__()\n",
        "    self.pretrained = pretrained\n",
        "    self.last = nn.Sequential(nn.Linear(2048, 10))\n",
        "  def forward(self, x):\n",
        "    x = self.pretrained(x)\n",
        "    x = self.last(x)   \n",
        "    return x\n",
        "\n",
        "\n",
        "from torchvision.models import resnet50, ResNet50_Weights\n",
        "weights = ResNet50_Weights.DEFAULT\n",
        "net = resnet50(weights=ResNet50_Weights.IMAGENET1K_V2)\n",
        "net.fc = nn.Sequential()\n",
        "net = lastLayer(net).to(device)\n",
        "criterion = nn.CrossEntropyLoss().to(device)\n",
        "optimizer = torch.optim.RMSprop(net.parameters(), lr=2e-4)\n",
        "epochs = 2\n",
        "accs_train = []\n",
        "loss_train = []\n",
        "accs_test = []\n",
        "loss_test = []\n",
        "for e in range(epochs):\n",
        "  print (e)\n",
        "  accs_train,loss_train = teapoch(net, criterion, optimizer, dataloader['train'],accs_train,loss_train)\n",
        "  accs_test,loss_test = tspoch(net, criterion, dataloader['test'],accs_test,loss_test)\n",
        "  if accs_test[-1]==max(accs_test):\n",
        "    torch.save(net.state_dict(), 'Resnet50_Cifar10_final.pth')"
      ]
    },
    {
      "cell_type": "code",
      "execution_count": 15,
      "metadata": {
        "colab": {
          "base_uri": "https://localhost:8080/",
          "height": 606
        },
        "id": "uGtT1pdY1MvA",
        "outputId": "cd8e27be-df7a-446a-9d18-63fca47575bf"
      },
      "outputs": [
        {
          "data": {
            "image/png": "[encoded data removed]",
            "text/plain": [
              "<Figure size 720x720 with 2 Axes>"
            ]
          },
          "metadata": {
            "needs_background": "light"
          },
          "output_type": "display_data"
        }
      ],
      "source": [
        "plot_history(accs_train, accs_test, loss_train , loss_test)"
      ]
    },
    {
      "attachments": {},
      "cell_type": "markdown",
      "metadata": {},
      "source": [
        "It takes longer to train Resnet50 from scratch on Cifar10 (since we are optimizing more parameters), but we will get a higher accuracy on test data only we have a more flexible model to train for this dataset."
      ]
    }
  ],
  "metadata": {
    "accelerator": "GPU",
    "colab": {
      "provenance": []
    },
    "gpuClass": "standard",
    "kernelspec": {
      "display_name": "Python 3",
      "name": "python3"
    },
    "language_info": {
      "name": "python"
    },
    "widgets": {
      "application/vnd.jupyter.widget-state+json": {
        "1bc7721074084ee59a536439cf593f87": {
          "model_module": "@jupyter-widgets/base",
          "model_module_version": "1.2.0",
          "model_name": "LayoutModel",
          "state": {
            "_model_module": "@jupyter-widgets/base",
            "_model_module_version": "1.2.0",
            "_model_name": "LayoutModel",
            "_view_count": null,
            "_view_module": "@jupyter-widgets/base",
            "_view_module_version": "1.2.0",
            "_view_name": "LayoutView",
            "align_content": null,
            "align_items": null,
            "align_self": null,
            "border": null,
            "bottom": null,
            "display": null,
            "flex": null,
            "flex_flow": null,
            "grid_area": null,
            "grid_auto_columns": null,
            "grid_auto_flow": null,
            "grid_auto_rows": null,
            "grid_column": null,
            "grid_gap": null,
            "grid_row": null,
            "grid_template_areas": null,
            "grid_template_columns": null,
            "grid_template_rows": null,
            "height": null,
            "justify_content": null,
            "justify_items": null,
            "left": null,
            "margin": null,
            "max_height": null,
            "max_width": null,
            "min_height": null,
            "min_width": null,
            "object_fit": null,
            "object_position": null,
            "order": null,
            "overflow": null,
            "overflow_x": null,
            "overflow_y": null,
            "padding": null,
            "right": null,
            "top": null,
            "visibility": null,
            "width": null
          }
        },
        "20145c92fb284d4184c7a96af9e166c2": {
          "model_module": "@jupyter-widgets/controls",
          "model_module_version": "1.5.0",
          "model_name": "HBoxModel",
          "state": {
            "_dom_classes": [],
            "_model_module": "@jupyter-widgets/controls",
            "_model_module_version": "1.5.0",
            "_model_name": "HBoxModel",
            "_view_count": null,
            "_view_module": "@jupyter-widgets/controls",
            "_view_module_version": "1.5.0",
            "_view_name": "HBoxView",
            "box_style": "",
            "children": [
              "IPY_MODEL_81aa88eced1a4a97a6bd2d3d4217920a",
              "IPY_MODEL_f49d48bf586b4b0f8049350f067aaad2",
              "IPY_MODEL_b9d3e16edbcf47ecb4f49b7ba31514ab"
            ],
            "layout": "IPY_MODEL_eab1ad88b9574024a10339e7cd5cebe1"
          }
        },
        "3c02701b92f7468da71f654a9f99701b": {
          "model_module": "@jupyter-widgets/controls",
          "model_module_version": "1.5.0",
          "model_name": "ProgressStyleModel",
          "state": {
            "_model_module": "@jupyter-widgets/controls",
            "_model_module_version": "1.5.0",
            "_model_name": "ProgressStyleModel",
            "_view_count": null,
            "_view_module": "@jupyter-widgets/base",
            "_view_module_version": "1.2.0",
            "_view_name": "StyleView",
            "bar_color": null,
            "description_width": ""
          }
        },
        "4509e315e9014be69306eeabb73de5e7": {
          "model_module": "@jupyter-widgets/controls",
          "model_module_version": "1.5.0",
          "model_name": "DescriptionStyleModel",
          "state": {
            "_model_module": "@jupyter-widgets/controls",
            "_model_module_version": "1.5.0",
            "_model_name": "DescriptionStyleModel",
            "_view_count": null,
            "_view_module": "@jupyter-widgets/base",
            "_view_module_version": "1.2.0",
            "_view_name": "StyleView",
            "description_width": ""
          }
        },
        "62230b152e6741a9ae914c2c6fd29253": {
          "model_module": "@jupyter-widgets/base",
          "model_module_version": "1.2.0",
          "model_name": "LayoutModel",
          "state": {
            "_model_module": "@jupyter-widgets/base",
            "_model_module_version": "1.2.0",
            "_model_name": "LayoutModel",
            "_view_count": null,
            "_view_module": "@jupyter-widgets/base",
            "_view_module_version": "1.2.0",
            "_view_name": "LayoutView",
            "align_content": null,
            "align_items": null,
            "align_self": null,
            "border": null,
            "bottom": null,
            "display": null,
            "flex": null,
            "flex_flow": null,
            "grid_area": null,
            "grid_auto_columns": null,
            "grid_auto_flow": null,
            "grid_auto_rows": null,
            "grid_column": null,
            "grid_gap": null,
            "grid_row": null,
            "grid_template_areas": null,
            "grid_template_columns": null,
            "grid_template_rows": null,
            "height": null,
            "justify_content": null,
            "justify_items": null,
            "left": null,
            "margin": null,
            "max_height": null,
            "max_width": null,
            "min_height": null,
            "min_width": null,
            "object_fit": null,
            "object_position": null,
            "order": null,
            "overflow": null,
            "overflow_x": null,
            "overflow_y": null,
            "padding": null,
            "right": null,
            "top": null,
            "visibility": null,
            "width": null
          }
        },
        "7d7964491de94674a620fdca0c4e3eef": {
          "model_module": "@jupyter-widgets/base",
          "model_module_version": "1.2.0",
          "model_name": "LayoutModel",
          "state": {
            "_model_module": "@jupyter-widgets/base",
            "_model_module_version": "1.2.0",
            "_model_name": "LayoutModel",
            "_view_count": null,
            "_view_module": "@jupyter-widgets/base",
            "_view_module_version": "1.2.0",
            "_view_name": "LayoutView",
            "align_content": null,
            "align_items": null,
            "align_self": null,
            "border": null,
            "bottom": null,
            "display": null,
            "flex": null,
            "flex_flow": null,
            "grid_area": null,
            "grid_auto_columns": null,
            "grid_auto_flow": null,
            "grid_auto_rows": null,
            "grid_column": null,
            "grid_gap": null,
            "grid_row": null,
            "grid_template_areas": null,
            "grid_template_columns": null,
            "grid_template_rows": null,
            "height": null,
            "justify_content": null,
            "justify_items": null,
            "left": null,
            "margin": null,
            "max_height": null,
            "max_width": null,
            "min_height": null,
            "min_width": null,
            "object_fit": null,
            "object_position": null,
            "order": null,
            "overflow": null,
            "overflow_x": null,
            "overflow_y": null,
            "padding": null,
            "right": null,
            "top": null,
            "visibility": null,
            "width": null
          }
        },
        "81aa88eced1a4a97a6bd2d3d4217920a": {
          "model_module": "@jupyter-widgets/controls",
          "model_module_version": "1.5.0",
          "model_name": "HTMLModel",
          "state": {
            "_dom_classes": [],
            "_model_module": "@jupyter-widgets/controls",
            "_model_module_version": "1.5.0",
            "_model_name": "HTMLModel",
            "_view_count": null,
            "_view_module": "@jupyter-widgets/controls",
            "_view_module_version": "1.5.0",
            "_view_name": "HTMLView",
            "description": "",
            "description_tooltip": null,
            "layout": "IPY_MODEL_1bc7721074084ee59a536439cf593f87",
            "placeholder": "​",
            "style": "IPY_MODEL_9a02c0da396f41dc9cc2a6a0b8f0df8e",
            "value": "100%"
          }
        },
        "9a02c0da396f41dc9cc2a6a0b8f0df8e": {
          "model_module": "@jupyter-widgets/controls",
          "model_module_version": "1.5.0",
          "model_name": "DescriptionStyleModel",
          "state": {
            "_model_module": "@jupyter-widgets/controls",
            "_model_module_version": "1.5.0",
            "_model_name": "DescriptionStyleModel",
            "_view_count": null,
            "_view_module": "@jupyter-widgets/base",
            "_view_module_version": "1.2.0",
            "_view_name": "StyleView",
            "description_width": ""
          }
        },
        "b9d3e16edbcf47ecb4f49b7ba31514ab": {
          "model_module": "@jupyter-widgets/controls",
          "model_module_version": "1.5.0",
          "model_name": "HTMLModel",
          "state": {
            "_dom_classes": [],
            "_model_module": "@jupyter-widgets/controls",
            "_model_module_version": "1.5.0",
            "_model_name": "HTMLModel",
            "_view_count": null,
            "_view_module": "@jupyter-widgets/controls",
            "_view_module_version": "1.5.0",
            "_view_name": "HTMLView",
            "description": "",
            "description_tooltip": null,
            "layout": "IPY_MODEL_62230b152e6741a9ae914c2c6fd29253",
            "placeholder": "​",
            "style": "IPY_MODEL_4509e315e9014be69306eeabb73de5e7",
            "value": " 170498071/170498071 [00:13&lt;00:00, 14543234.32it/s]"
          }
        },
        "eab1ad88b9574024a10339e7cd5cebe1": {
          "model_module": "@jupyter-widgets/base",
          "model_module_version": "1.2.0",
          "model_name": "LayoutModel",
          "state": {
            "_model_module": "@jupyter-widgets/base",
            "_model_module_version": "1.2.0",
            "_model_name": "LayoutModel",
            "_view_count": null,
            "_view_module": "@jupyter-widgets/base",
            "_view_module_version": "1.2.0",
            "_view_name": "LayoutView",
            "align_content": null,
            "align_items": null,
            "align_self": null,
            "border": null,
            "bottom": null,
            "display": null,
            "flex": null,
            "flex_flow": null,
            "grid_area": null,
            "grid_auto_columns": null,
            "grid_auto_flow": null,
            "grid_auto_rows": null,
            "grid_column": null,
            "grid_gap": null,
            "grid_row": null,
            "grid_template_areas": null,
            "grid_template_columns": null,
            "grid_template_rows": null,
            "height": null,
            "justify_content": null,
            "justify_items": null,
            "left": null,
            "margin": null,
            "max_height": null,
            "max_width": null,
            "min_height": null,
            "min_width": null,
            "object_fit": null,
            "object_position": null,
            "order": null,
            "overflow": null,
            "overflow_x": null,
            "overflow_y": null,
            "padding": null,
            "right": null,
            "top": null,
            "visibility": null,
            "width": null
          }
        },
        "f49d48bf586b4b0f8049350f067aaad2": {
          "model_module": "@jupyter-widgets/controls",
          "model_module_version": "1.5.0",
          "model_name": "FloatProgressModel",
          "state": {
            "_dom_classes": [],
            "_model_module": "@jupyter-widgets/controls",
            "_model_module_version": "1.5.0",
            "_model_name": "FloatProgressModel",
            "_view_count": null,
            "_view_module": "@jupyter-widgets/controls",
            "_view_module_version": "1.5.0",
            "_view_name": "ProgressView",
            "bar_style": "success",
            "description": "",
            "description_tooltip": null,
            "layout": "IPY_MODEL_7d7964491de94674a620fdca0c4e3eef",
            "max": 170498071,
            "min": 0,
            "orientation": "horizontal",
            "style": "IPY_MODEL_3c02701b92f7468da71f654a9f99701b",
            "value": 170498071
          }
        }
      }
    }
  },
  "nbformat": 4,
  "nbformat_minor": 0
}
